{
 "cells": [
  {
   "cell_type": "markdown",
   "id": "3a79d04e-67c4-404e-baee-ebd2cb4ae2cf",
   "metadata": {
    "tags": []
   },
   "source": [
    "<div style=\"text-align:center; font-size:40px; font-family: 'Times New Roman', Times, serif;font-weight: bold;\">\n",
    "    Tokamak Plasma Disruption Prediction using ML\n",
    "</div>\n"
   ]
  },
  {
   "cell_type": "markdown",
   "id": "d9b2343a-2d76-4db8-b7fa-969a0e472f74",
   "metadata": {},
   "source": [
    "<div style =\"test-align:left\"; font-size:30px; font-family:'Times New Roman'> The data was obtained from the competition published by IAEA AI for Fusion. The following work is not used to participate in the competition; rather, it's more like a self-project performed to understand and learn about the application of AI in the nuclear (fusion) energy sector. More details about the competition can be found at the following link. An F1 score of 0.883116883 was also obtained after submission.  </div>\n",
    "\n",
    "Link : https://zindi.africa/competitions/multi-machine-disruption-prediction-challenge/submissions"
   ]
  },
  {
   "cell_type": "code",
   "execution_count": 56,
   "id": "8eeb2621-9c4b-4f81-9c8f-92089e8c8c30",
   "metadata": {
    "tags": []
   },
   "outputs": [],
   "source": [
    "import os\n",
    "import glob\n",
    "from tqdm.auto import tqdm\n",
    "\n",
    "\n",
    "import numpy as np\n",
    "\n",
    "import utils\n",
    "\n",
    "\n",
    "from jddb.file_repo import FileRepo\n",
    "\n",
    "import pandas as pd\n",
    "from tqdm.auto import tqdm"
   ]
  },
  {
   "cell_type": "code",
   "execution_count": 35,
   "id": "fa7e05fa-c89f-4c2a-bc81-b605ae3d6f60",
   "metadata": {
    "tags": []
   },
   "outputs": [
    {
     "name": "stdout",
     "output_type": "stream",
     "text": [
      "Done\n"
     ]
    }
   ],
   "source": [
    "import zipfile\n",
    "\n",
    "def extract_zip(zip_files):\n",
    "    for zip_file, extract_path in zip_files:\n",
    "        with zipfile.ZipFile(zip_file, 'r') as zip_ref:\n",
    "            zip_ref.extractall(extract_path)\n",
    "\n",
    "\n",
    "zip_files = [\n",
    "    (\"C-Mod_data.zip\", '../tod'),\n",
    "    ('HL-2A_data.zip', '../tod'),\n",
    "    ('J-TEXT_data.zip', '../tod'),\n",
    "    ('../tod/J-TEXT data/data.zip', '../tod/J-TEXT data/')\n",
    "]\n",
    "\n",
    "\n",
    "extract_zip(zip_files)\n",
    "\n",
    "\n",
    "print(\"Done\")"
   ]
  },
  {
   "cell_type": "code",
   "execution_count": 36,
   "id": "8e4cfa75-309e-4677-a069-1c7adfca86b8",
   "metadata": {
    "tags": []
   },
   "outputs": [
    {
     "name": "stderr",
     "output_type": "stream",
     "text": [
      "INFO patool: Extracting ../tod/HL-2A data/HL-2A_Data.rar ...\n",
      "INFO patool: running /usr/local/bin/unrar x -- \"/Users/lightvij/Downloads/zindiFusion/tod/HL-2A data/HL-2A_Data.rar\"\n",
      "INFO patool:     with cwd='../tod/HL-2A data/', input=''\n",
      "INFO patool: ... ../tod/HL-2A data/HL-2A_Data.rar extracted to `../tod/HL-2A data/'.\n"
     ]
    },
    {
     "name": "stdout",
     "output_type": "stream",
     "text": [
      "Extraction Successful\n"
     ]
    }
   ],
   "source": [
    "import patoolib\n",
    "\n",
    "\n",
    "patoolib.extract_archive('../tod/HL-2A data/HL-2A_Data.rar', outdir='../tod/HL-2A data/', program = '/usr/local/bin/unrar')\n",
    "print(\"Extraction Successful\")"
   ]
  },
  {
   "cell_type": "code",
   "execution_count": 3,
   "id": "1a89da3e-16ea-4597-92bf-9961b7e80800",
   "metadata": {
    "tags": []
   },
   "outputs": [
    {
     "name": "stdout",
     "output_type": "stream",
     "text": [
      "Traceback (most recent call last):\n",
      "  File \"/Users/lightvij/Downloads/zindiFusion/tod/basic_data_handling.py\", line 8, in <module>\n",
      "    shot = shot_list[20]\n",
      "           ~~~~~~~~~^^^^\n",
      "IndexError: list index out of range\n"
     ]
    }
   ],
   "source": [
    "\n",
    "!python basic_data_handling.py\n",
    "!python basic_processor.py"
   ]
  },
  {
   "cell_type": "code",
   "execution_count": 4,
   "id": "7d66ce76-0173-4f22-9006-5f4e20ff2460",
   "metadata": {
    "tags": []
   },
   "outputs": [
    {
     "name": "stdout",
     "output_type": "stream",
     "text": [
      "Done\n"
     ]
    }
   ],
   "source": [
    "directories = {\n",
    "    \"jtext_files\": \"jtext_train_files\",\n",
    "    \"cmod_files\": \"cmod_train_files\",\n",
    "    \"hl_2a_files\": \"hl2a_train_files\",\n",
    "    \"test_files\": \"cmod_testing_files\"\n",
    "}\n",
    "\n",
    "for file_name, directory in directories.items():\n",
    "    path = f\"../tod/{directory}\"\n",
    "    os.makedirs(path, exist_ok=True)\n",
    "    globals()[file_name] = path\n",
    "\n",
    "print('Done')"
   ]
  },
  {
   "cell_type": "code",
   "execution_count": 5,
   "id": "472e524b-0c70-47b0-854a-553aefa20948",
   "metadata": {
    "tags": []
   },
   "outputs": [
    {
     "name": "stdout",
     "output_type": "stream",
     "text": [
      " Immediate subfolders for: ../tod/cmod\n",
      "  Subfolder: ../tod/cmod/CMod_evaluate_20_10_2023\n",
      "  Subfolder: ../tod/cmod/CMod_train\n",
      "\n",
      "\n",
      " Immediate subfolders for: ../tod/J-TEXT data\n",
      "  Subfolder: ../tod/J-TEXT data/figures\n",
      "  Subfolder: ../tod/J-TEXT data/processed_data_1k_5k_final\n",
      "\n",
      "\n",
      " Immediate subfolders for: ../tod/HL-2A data\n",
      "  Subfolder: ../tod/HL-2A data/JDDB_repo_2A_5k\n",
      "\n",
      "\n"
     ]
    }
   ],
   "source": [
    "import os\n",
    "\n",
    "folderpath = [\"../tod/cmod\", \"../tod/J-TEXT data\", \"../tod/HL-2A data\"]\n",
    "\n",
    "def list_subfolders(directory_list):\n",
    "    for directory in directory_list:\n",
    "        print(f\" Immediate subfolders for: {directory}\")\n",
    "        subfolders = next(os.walk(directory))[1]\n",
    "        for subfolder in subfolders:\n",
    "            print(f\"  Subfolder: {os.path.join(directory, subfolder)}\")\n",
    "        print(\"\\n\")\n",
    "\n",
    "list_subfolders(folderpath)"
   ]
  },
  {
   "cell_type": "code",
   "execution_count": 6,
   "id": "ad68cb5c-e65c-4098-9ddb-f68400c19811",
   "metadata": {
    "tags": []
   },
   "outputs": [],
   "source": [
    "directories = ['../tod/cmod/CMod_train/*/*', \n",
    "               '../tod/J-TEXT data/processed_data_1k_5k_final/*/*', \n",
    "               '../tod/HL-2A data/JDDB_repo_2A_5k/*', \n",
    "               '../tod/cmod/CMod_evaluate_20_10_2023/*/*'\n",
    "              ]\n",
    "c_mod_paths_files, jtext_paths_files, hl_2a_paths_files, c_mod_test_files = [glob.glob(directory) for directory in directories]"
   ]
  },
  {
   "cell_type": "code",
   "execution_count": 7,
   "id": "3bb39391-e507-4689-91cc-9b8a4fb3827b",
   "metadata": {
    "tags": []
   },
   "outputs": [
    {
     "data": {
      "application/vnd.jupyter.widget-view+json": {
       "model_id": "f2a254ccf4104a02ba7be60a9552af0e",
       "version_major": 2,
       "version_minor": 0
      },
      "text/plain": [
       "0it [00:00, ?it/s]"
      ]
     },
     "metadata": {},
     "output_type": "display_data"
    },
    {
     "data": {
      "application/vnd.jupyter.widget-view+json": {
       "model_id": "d321d20c548b4f93a2427a074f1a1c98",
       "version_major": 2,
       "version_minor": 0
      },
      "text/plain": [
       "0it [00:00, ?it/s]"
      ]
     },
     "metadata": {},
     "output_type": "display_data"
    },
    {
     "data": {
      "application/vnd.jupyter.widget-view+json": {
       "model_id": "fc109b1e7e7e4de6be504ec4790f5027",
       "version_major": 2,
       "version_minor": 0
      },
      "text/plain": [
       "0it [00:00, ?it/s]"
      ]
     },
     "metadata": {},
     "output_type": "display_data"
    },
    {
     "data": {
      "application/vnd.jupyter.widget-view+json": {
       "model_id": "51ac6ecc458d4e04ab2996f441580959",
       "version_major": 2,
       "version_minor": 0
      },
      "text/plain": [
       "0it [00:00, ?it/s]"
      ]
     },
     "metadata": {},
     "output_type": "display_data"
    }
   ],
   "source": [
    "\n",
    "import shutil\n",
    "from tqdm.notebook import tqdm  # for progress bar\n",
    "\n",
    "def move_files(source_path, destination_path, file_paths):\n",
    "    for path in tqdm(file_paths):\n",
    "        if os.path.exists(path):\n",
    "            shutil.move(path, f\"{destination_path}/{os.path.split(path)[-1]}\")\n",
    "        else:\n",
    "            print(f\"Source file not found: {path}\")\n",
    "\n",
    "# Example usage\n",
    "move_files(cmod_files, cmod_files, c_mod_paths_files)\n",
    "move_files(jtext_files, jtext_files, jtext_paths_files)\n",
    "move_files(hl_2a_files, hl_2a_files, hl_2a_paths_files)\n",
    "\n",
    "\n",
    "move_files(test_files, test_files, c_mod_test_files)\n",
    "\n",
    "\n"
   ]
  },
  {
   "cell_type": "code",
   "execution_count": 8,
   "id": "c5d1395f-7cc5-475d-b716-c0e886e3eef0",
   "metadata": {
    "tags": []
   },
   "outputs": [],
   "source": [
    "from jddb.file_repo import FileRepo\n",
    "\n",
    "\n",
    "def open_repo(path):\n",
    "    \n",
    "\n",
    "    file_repo = FileRepo(f\"{path}\")\n",
    "    return file_repo\n",
    "\n",
    "jtext_repo = open_repo(jtext_files)\n",
    "cmod_repo = open_repo(cmod_files)\n",
    "hl_2a_repo = open_repo(hl_2a_files)\n",
    "\n",
    "test_repo = open_repo(test_files)"
   ]
  },
  {
   "cell_type": "code",
   "execution_count": 9,
   "id": "de054859-44d0-434b-8b7e-42bd5f1cf538",
   "metadata": {
    "tags": []
   },
   "outputs": [],
   "source": [
    "\n",
    "jtext_shot_list = jtext_repo.get_all_shots()\n",
    "cmod_shot_list = cmod_repo.get_all_shots()\n",
    "hl_2a_shot_list = hl_2a_repo.get_all_shots()\n",
    "test_shot_list = test_repo.get_all_shots()\n"
   ]
  },
  {
   "cell_type": "markdown",
   "id": "7d74edc2-9876-42b2-aaa7-b117c3224e7c",
   "metadata": {},
   "source": [
    "To return labels for shots in repo specified in the shot_list"
   ]
  },
  {
   "cell_type": "code",
   "execution_count": 10,
   "id": "2d587aab-af20-4dd1-b053-c07675e9f66f",
   "metadata": {
    "tags": []
   },
   "outputs": [],
   "source": [
    "def get_labels(repo, shot_list):\n",
    "    return [repo.read_labels(shot, ['IsDisrupt'])['IsDisrupt'] for shot in shot_list]"
   ]
  },
  {
   "cell_type": "code",
   "execution_count": 11,
   "id": "d4076198-12fe-432a-adf9-0936c871836d",
   "metadata": {
    "tags": []
   },
   "outputs": [],
   "source": [
    "def get_maximum_length(tag):\n",
    "    all_lengths = [len(t) for t in tag]\n",
    "    return [t for t in tag if len(t) == max(all_lengths)]\n"
   ]
  },
  {
   "cell_type": "code",
   "execution_count": 12,
   "id": "cf81570d-f746-4833-a352-936d54500869",
   "metadata": {
    "tags": []
   },
   "outputs": [],
   "source": [
    "def get_tags_and_mini_tags(repo, shots_dict_key):\n",
    "    tags = [repo.get_tag_list(each_shot) for each_shot in shots_dict_key]\n",
    "    mini_tags = get_maximum_length(tags)\n",
    "    tags = np.unique(np.array([cv for te in tags for cv in te]))\n",
    "    return tags, mini_tags\n"
   ]
  },
  {
   "cell_type": "code",
   "execution_count": 13,
   "id": "23a8f9ca-de52-4e39-8431-c3ec5be99793",
   "metadata": {
    "tags": []
   },
   "outputs": [],
   "source": [
    "def new_test_matrix_build(file_shot_repo, shot_list, tags, all_tags):\n",
    "    \"\"\"Returns X arrays and tags to drop \"\"\"\n",
    "    file_shot_repo_dict = [dict(file_shot_repo.read_data(shot_list[i] , tag_list=tags).items()) for i in range(len(shot_list))]\n",
    "    tag_to_drop = np.unique(np.array([key for data_dict in file_shot_repo_dict for key in all_tags if key not in data_dict.keys()]))\n",
    "    file_x = np.asarray([np.nan_to_num(data_dict[f\"{key}\"]).T for data_dict in file_shot_repo_dict for key in all_tags if key not in tag_to_drop]  , dtype=object).reshape(-1 , len(all_tags) - len(tag_to_drop))\n",
    "    return file_x , tag_to_drop\n",
    "\n",
    "def new_train_matrix_build(shot_list, file_shot_repo , tags, all_tags):\n",
    "    \"\"\"Returns X & Y arrays and tags_to_drop \"\"\"\n",
    "    file_shot_repo_dict = [dict(file_shot_repo.read_data(shot_list[i], tag_list=tags).items()) for i in range(len(shot_list))]\n",
    "    tag_to_drop = np.unique(np.array([key for data_dict in file_shot_repo_dict for key in all_tags if key not in data_dict.keys()]))\n",
    "    file_x = np.asarray([np.nan_to_num(data_dict[f\"{key}\"]).T for data_dict in file_shot_repo_dict for key in all_tags if key not in tag_to_drop], dtype=object).reshape(-1 , len(all_tags) - len(tag_to_drop))\n",
    "\n",
    "    file_y = np.asarray([np.array(list(file_shot_repo.read_labels(shot_list[i] , ['IsDisrupt']).values())).T.flatten().reshape(-1,) for i in range(len(shot_list))] , dtype=np.int32)\n",
    "    return file_x , file_y , tag_to_drop"
   ]
  },
  {
   "cell_type": "code",
   "execution_count": 14,
   "id": "caa0501a-6c6b-46e2-84ff-73148eba04c2",
   "metadata": {
    "tags": []
   },
   "outputs": [],
   "source": [
    "def reform_train_x_sum_of_squares_features(df , mini_tags , shot_list):\n",
    "    \"\"\"Returns a reformed dataframe\"\"\"\n",
    "    train_df_dict = {i : [np.square(df[v][i]).sum() for v in range(df.shape[0])] for i in range(df.shape[1])}\n",
    "\n",
    "    df_final = pd.DataFrame(train_df_dict)\n",
    "    df_final = df_final.rename(columns  = dict(zip(train_df_dict.keys(), mini_tags )) )\n",
    "    df_final['Shot_list'] = [f'ID_{shot}' for shot in shot_list]\n",
    "    return df_final"
   ]
  },
  {
   "cell_type": "code",
   "execution_count": 15,
   "id": "25015054-9f49-423b-a405-45d15f784587",
   "metadata": {
    "tags": []
   },
   "outputs": [],
   "source": [
    "\n",
    "def rebuild_train_files(train_file_repo , train_shot_list):\n",
    "    df_final_x = [ ]\n",
    "    df_final_y = [ ]\n",
    "\n",
    "    for shot in tqdm(train_shot_list):\n",
    "\n",
    "        train_tags , mini_tags  = get_tags_and_mini_tags(train_file_repo , [shot])\n",
    "        train_x_df , train_y_df, _ =  new_train_matrix_build([shot] , train_file_repo , mini_tags[0] , train_tags)\n",
    "        train_x_df = reform_train_x_sum_of_squares_features(train_x_df , mini_tags[0] , [shot])\n",
    "\n",
    "        train_y_df = get_labels(train_file_repo , [shot])\n",
    "        train_y_df = pd.DataFrame(train_y_df)\n",
    "\n",
    "        df_final_x.append(train_x_df)\n",
    "        df_final_y.append(train_y_df)\n",
    "\n",
    "    df_final_x = pd.concat(df_final_x)\n",
    "    df_final_y = pd.concat(df_final_y)\n",
    "\n",
    "    df_final_x = df_final_x.reset_index().drop('index' , axis=1)\n",
    "    df_final_y = df_final_y.reset_index().drop('index' , axis=1)\n",
    "\n",
    "    return df_final_x , df_final_y\n",
    "\n",
    "def rebuild_test_files(test_file_repo , test_shot_list):\n",
    "    df_final_x = [ ]\n",
    "\n",
    "    for shot in tqdm(test_shot_list):\n",
    "\n",
    "        test_tags , mini_tags  = get_tags_and_mini_tags(test_file_repo , [shot])\n",
    "        test_x_df , _ =  new_test_matrix_build(test_file_repo, [shot] , mini_tags[0] , test_tags)\n",
    "        test_x_df = reform_train_x_sum_of_squares_features(test_x_df , mini_tags[0] , [shot])\n",
    "        df_final_x.append(test_x_df)\n",
    "\n",
    "    df_final_x = pd.concat(df_final_x)\n",
    "    df_final_x = df_final_x.reset_index().drop('index' , axis=1)\n",
    "    return df_final_x"
   ]
  },
  {
   "cell_type": "code",
   "execution_count": 16,
   "id": "6bc4c700-79b5-4a69-9ea6-e783c227b2de",
   "metadata": {
    "tags": []
   },
   "outputs": [
    {
     "data": {
      "application/vnd.jupyter.widget-view+json": {
       "model_id": "e30c4c854a6f4613a9da69473b84bff8",
       "version_major": 2,
       "version_minor": 0
      },
      "text/plain": [
       "  0%|          | 0/20 [00:00<?, ?it/s]"
      ]
     },
     "metadata": {},
     "output_type": "display_data"
    },
    {
     "data": {
      "application/vnd.jupyter.widget-view+json": {
       "model_id": "3ced5fc2f72d4ac9a6b19c5e32d7e3d7",
       "version_major": 2,
       "version_minor": 0
      },
      "text/plain": [
       "  0%|          | 0/975 [00:00<?, ?it/s]"
      ]
     },
     "metadata": {},
     "output_type": "display_data"
    },
    {
     "data": {
      "application/vnd.jupyter.widget-view+json": {
       "model_id": "0c0caa2a745b4f2abc44a1f809745a23",
       "version_major": 2,
       "version_minor": 0
      },
      "text/plain": [
       "  0%|          | 0/2136 [00:00<?, ?it/s]"
      ]
     },
     "metadata": {},
     "output_type": "display_data"
    },
    {
     "data": {
      "application/vnd.jupyter.widget-view+json": {
       "model_id": "6180354583574d66934568f5e057180c",
       "version_major": 2,
       "version_minor": 0
      },
      "text/plain": [
       "  0%|          | 0/413 [00:00<?, ?it/s]"
      ]
     },
     "metadata": {},
     "output_type": "display_data"
    },
    {
     "name": "stdout",
     "output_type": "stream",
     "text": [
      "--------------------------------  done  ____________________________________________\n"
     ]
    }
   ],
   "source": [
    "import warnings\n",
    "\n",
    "warnings.simplefilter(action='ignore', category=FutureWarning)\n",
    "warnings.simplefilter(action='ignore', category=RuntimeWarning)\n",
    "warnings.simplefilter(action = 'ignore', category=DeprecationWarning)\n",
    "\n",
    "train_x_cmod_df , train_y_cmod_df = rebuild_train_files(cmod_repo , cmod_shot_list)\n",
    "train_x_hl_2a_df , train_y_hl_2a_df = rebuild_train_files(hl_2a_repo , hl_2a_shot_list)\n",
    "train_x_jtext_df , train_y_jtext_df = rebuild_train_files(jtext_repo , jtext_shot_list)\n",
    "\n",
    "test_x_cmod_df = rebuild_test_files(test_repo , test_shot_list)\n",
    "\n",
    "\n",
    "warnings.resetwarnings()\n",
    "print(\"--------------------------------  done  ____________________________________________\")"
   ]
  },
  {
   "cell_type": "code",
   "execution_count": 17,
   "id": "2148a0bf-0757-49f7-9b25-d768881f2589",
   "metadata": {
    "tags": []
   },
   "outputs": [
    {
     "data": {
      "text/plain": [
       "((2136, 90), (975, 86), (20, 173), (413, 198))"
      ]
     },
     "execution_count": 17,
     "metadata": {},
     "output_type": "execute_result"
    }
   ],
   "source": [
    "train_x_jtext_df.shape, train_x_hl_2a_df.shape, train_x_cmod_df.shape, test_x_cmod_df.shape\n"
   ]
  },
  {
   "cell_type": "code",
   "execution_count": 18,
   "id": "c51d4ef2-7c37-404d-bdd9-e3d883043f95",
   "metadata": {
    "tags": []
   },
   "outputs": [
    {
     "data": {
      "text/plain": [
       "(413, 198)"
      ]
     },
     "execution_count": 18,
     "metadata": {},
     "output_type": "execute_result"
    }
   ],
   "source": [
    "\n",
    "test_x_cmod_df.shape"
   ]
  },
  {
   "cell_type": "code",
   "execution_count": 19,
   "id": "b1069e8d-9ccd-4af1-a3a2-8f61ae691c91",
   "metadata": {
    "tags": []
   },
   "outputs": [
    {
     "data": {
      "text/html": [
       "<div>\n",
       "<style scoped>\n",
       "    .dataframe tbody tr th:only-of-type {\n",
       "        vertical-align: middle;\n",
       "    }\n",
       "\n",
       "    .dataframe tbody tr th {\n",
       "        vertical-align: top;\n",
       "    }\n",
       "\n",
       "    .dataframe thead th {\n",
       "        text-align: right;\n",
       "    }\n",
       "</style>\n",
       "<table border=\"1\" class=\"dataframe\">\n",
       "  <thead>\n",
       "    <tr style=\"text-align: right;\">\n",
       "      <th></th>\n",
       "      <th>.tci.results:nl_04</th>\n",
       "      <th>Greenwald_fraction</th>\n",
       "      <th>\\AXA.chord_1</th>\n",
       "      <th>\\AXA.chord_10</th>\n",
       "      <th>\\AXA.chord_11</th>\n",
       "      <th>\\AXA.chord_12</th>\n",
       "      <th>\\AXA.chord_13</th>\n",
       "      <th>\\AXA.chord_14</th>\n",
       "      <th>\\AXA.chord_15</th>\n",
       "      <th>\\AXA.chord_16</th>\n",
       "      <th>...</th>\n",
       "      <th>\\MAGNETICS::TOP.ACTIVE_MHD.SIGNALS:BP_KA_BOT</th>\n",
       "      <th>\\MAGNETICS::TOP.ACTIVE_MHD.SIGNALS:BP_KA_TOP</th>\n",
       "      <th>\\MAGNETICS::TOP.ACTIVE_MHD.SIGNALS:BP24_GHK</th>\n",
       "      <th>\\MAGNETICS::TOP.ACTIVE_MHD.SIGNALS:BP28_GHK</th>\n",
       "      <th>\\MAGNETICS::TOP.ACTIVE_MHD.SIGNALS:BP19_ABK</th>\n",
       "      <th>\\MAGNETICS::TOP.ACTIVE_MHD.SIGNALS:BP24_ABK</th>\n",
       "      <th>\\MAGNETICS::TOP.ACTIVE_MHD.SIGNALS:BP14_ABK</th>\n",
       "      <th>\\MAGNETICS::TOP.ACTIVE_MHD.SIGNALS:BP11_ABK</th>\n",
       "      <th>\\MAGNETICS::TOP.ACTIVE_MHD.SIGNALS:BP25_GHK</th>\n",
       "      <th>\\MAGNETICS::TOP.ACTIVE_MHD.SIGNALS:BP16_GHK</th>\n",
       "    </tr>\n",
       "  </thead>\n",
       "  <tbody>\n",
       "    <tr>\n",
       "      <th>0</th>\n",
       "      <td>7.238038e+42</td>\n",
       "      <td>50.148826</td>\n",
       "      <td>5.912766e+11</td>\n",
       "      <td>5.569227e+13</td>\n",
       "      <td>7.499578e+13</td>\n",
       "      <td>9.531514e+13</td>\n",
       "      <td>1.151346e+14</td>\n",
       "      <td>1.254265e+14</td>\n",
       "      <td>1.319534e+14</td>\n",
       "      <td>1.319970e+14</td>\n",
       "      <td>...</td>\n",
       "      <td>NaN</td>\n",
       "      <td>NaN</td>\n",
       "      <td>NaN</td>\n",
       "      <td>NaN</td>\n",
       "      <td>NaN</td>\n",
       "      <td>NaN</td>\n",
       "      <td>NaN</td>\n",
       "      <td>NaN</td>\n",
       "      <td>NaN</td>\n",
       "      <td>NaN</td>\n",
       "    </tr>\n",
       "    <tr>\n",
       "      <th>1</th>\n",
       "      <td>4.142576e+43</td>\n",
       "      <td>320.385502</td>\n",
       "      <td>1.594344e+12</td>\n",
       "      <td>2.863002e+14</td>\n",
       "      <td>2.880459e+14</td>\n",
       "      <td>2.848301e+14</td>\n",
       "      <td>2.907172e+14</td>\n",
       "      <td>2.840117e+14</td>\n",
       "      <td>2.909774e+14</td>\n",
       "      <td>2.900714e+14</td>\n",
       "      <td>...</td>\n",
       "      <td>NaN</td>\n",
       "      <td>NaN</td>\n",
       "      <td>NaN</td>\n",
       "      <td>NaN</td>\n",
       "      <td>NaN</td>\n",
       "      <td>NaN</td>\n",
       "      <td>NaN</td>\n",
       "      <td>NaN</td>\n",
       "      <td>NaN</td>\n",
       "      <td>NaN</td>\n",
       "    </tr>\n",
       "    <tr>\n",
       "      <th>2</th>\n",
       "      <td>7.505662e+42</td>\n",
       "      <td>83.864994</td>\n",
       "      <td>1.175826e+12</td>\n",
       "      <td>6.103594e+13</td>\n",
       "      <td>7.469048e+13</td>\n",
       "      <td>8.867595e+13</td>\n",
       "      <td>1.088405e+14</td>\n",
       "      <td>1.238158e+14</td>\n",
       "      <td>1.372414e+14</td>\n",
       "      <td>1.410087e+14</td>\n",
       "      <td>...</td>\n",
       "      <td>NaN</td>\n",
       "      <td>NaN</td>\n",
       "      <td>NaN</td>\n",
       "      <td>NaN</td>\n",
       "      <td>NaN</td>\n",
       "      <td>NaN</td>\n",
       "      <td>NaN</td>\n",
       "      <td>NaN</td>\n",
       "      <td>NaN</td>\n",
       "      <td>NaN</td>\n",
       "    </tr>\n",
       "    <tr>\n",
       "      <th>3</th>\n",
       "      <td>8.969224e+41</td>\n",
       "      <td>15.818755</td>\n",
       "      <td>2.814312e+12</td>\n",
       "      <td>8.571182e+13</td>\n",
       "      <td>1.234129e+14</td>\n",
       "      <td>1.667579e+14</td>\n",
       "      <td>2.235311e+14</td>\n",
       "      <td>2.701136e+14</td>\n",
       "      <td>3.086097e+14</td>\n",
       "      <td>3.308350e+14</td>\n",
       "      <td>...</td>\n",
       "      <td>NaN</td>\n",
       "      <td>NaN</td>\n",
       "      <td>NaN</td>\n",
       "      <td>NaN</td>\n",
       "      <td>NaN</td>\n",
       "      <td>NaN</td>\n",
       "      <td>NaN</td>\n",
       "      <td>NaN</td>\n",
       "      <td>NaN</td>\n",
       "      <td>NaN</td>\n",
       "    </tr>\n",
       "    <tr>\n",
       "      <th>4</th>\n",
       "      <td>8.905767e+42</td>\n",
       "      <td>80.798441</td>\n",
       "      <td>NaN</td>\n",
       "      <td>NaN</td>\n",
       "      <td>NaN</td>\n",
       "      <td>NaN</td>\n",
       "      <td>NaN</td>\n",
       "      <td>NaN</td>\n",
       "      <td>NaN</td>\n",
       "      <td>NaN</td>\n",
       "      <td>...</td>\n",
       "      <td>3.178918e+06</td>\n",
       "      <td>1.827706e+06</td>\n",
       "      <td>NaN</td>\n",
       "      <td>NaN</td>\n",
       "      <td>NaN</td>\n",
       "      <td>NaN</td>\n",
       "      <td>NaN</td>\n",
       "      <td>NaN</td>\n",
       "      <td>NaN</td>\n",
       "      <td>NaN</td>\n",
       "    </tr>\n",
       "  </tbody>\n",
       "</table>\n",
       "<p>5 rows × 198 columns</p>\n",
       "</div>"
      ],
      "text/plain": [
       "   .tci.results:nl_04  Greenwald_fraction  \\AXA.chord_1  \\AXA.chord_10  \\\n",
       "0        7.238038e+42           50.148826  5.912766e+11   5.569227e+13   \n",
       "1        4.142576e+43          320.385502  1.594344e+12   2.863002e+14   \n",
       "2        7.505662e+42           83.864994  1.175826e+12   6.103594e+13   \n",
       "3        8.969224e+41           15.818755  2.814312e+12   8.571182e+13   \n",
       "4        8.905767e+42           80.798441           NaN            NaN   \n",
       "\n",
       "   \\AXA.chord_11  \\AXA.chord_12  \\AXA.chord_13  \\AXA.chord_14  \\AXA.chord_15  \\\n",
       "0   7.499578e+13   9.531514e+13   1.151346e+14   1.254265e+14   1.319534e+14   \n",
       "1   2.880459e+14   2.848301e+14   2.907172e+14   2.840117e+14   2.909774e+14   \n",
       "2   7.469048e+13   8.867595e+13   1.088405e+14   1.238158e+14   1.372414e+14   \n",
       "3   1.234129e+14   1.667579e+14   2.235311e+14   2.701136e+14   3.086097e+14   \n",
       "4            NaN            NaN            NaN            NaN            NaN   \n",
       "\n",
       "   \\AXA.chord_16  ...  \\MAGNETICS::TOP.ACTIVE_MHD.SIGNALS:BP_KA_BOT  \\\n",
       "0   1.319970e+14  ...                                           NaN   \n",
       "1   2.900714e+14  ...                                           NaN   \n",
       "2   1.410087e+14  ...                                           NaN   \n",
       "3   3.308350e+14  ...                                           NaN   \n",
       "4            NaN  ...                                  3.178918e+06   \n",
       "\n",
       "   \\MAGNETICS::TOP.ACTIVE_MHD.SIGNALS:BP_KA_TOP  \\\n",
       "0                                           NaN   \n",
       "1                                           NaN   \n",
       "2                                           NaN   \n",
       "3                                           NaN   \n",
       "4                                  1.827706e+06   \n",
       "\n",
       "   \\MAGNETICS::TOP.ACTIVE_MHD.SIGNALS:BP24_GHK  \\\n",
       "0                                          NaN   \n",
       "1                                          NaN   \n",
       "2                                          NaN   \n",
       "3                                          NaN   \n",
       "4                                          NaN   \n",
       "\n",
       "   \\MAGNETICS::TOP.ACTIVE_MHD.SIGNALS:BP28_GHK  \\\n",
       "0                                          NaN   \n",
       "1                                          NaN   \n",
       "2                                          NaN   \n",
       "3                                          NaN   \n",
       "4                                          NaN   \n",
       "\n",
       "   \\MAGNETICS::TOP.ACTIVE_MHD.SIGNALS:BP19_ABK  \\\n",
       "0                                          NaN   \n",
       "1                                          NaN   \n",
       "2                                          NaN   \n",
       "3                                          NaN   \n",
       "4                                          NaN   \n",
       "\n",
       "   \\MAGNETICS::TOP.ACTIVE_MHD.SIGNALS:BP24_ABK  \\\n",
       "0                                          NaN   \n",
       "1                                          NaN   \n",
       "2                                          NaN   \n",
       "3                                          NaN   \n",
       "4                                          NaN   \n",
       "\n",
       "   \\MAGNETICS::TOP.ACTIVE_MHD.SIGNALS:BP14_ABK  \\\n",
       "0                                          NaN   \n",
       "1                                          NaN   \n",
       "2                                          NaN   \n",
       "3                                          NaN   \n",
       "4                                          NaN   \n",
       "\n",
       "   \\MAGNETICS::TOP.ACTIVE_MHD.SIGNALS:BP11_ABK  \\\n",
       "0                                          NaN   \n",
       "1                                          NaN   \n",
       "2                                          NaN   \n",
       "3                                          NaN   \n",
       "4                                          NaN   \n",
       "\n",
       "   \\MAGNETICS::TOP.ACTIVE_MHD.SIGNALS:BP25_GHK  \\\n",
       "0                                          NaN   \n",
       "1                                          NaN   \n",
       "2                                          NaN   \n",
       "3                                          NaN   \n",
       "4                                          NaN   \n",
       "\n",
       "   \\MAGNETICS::TOP.ACTIVE_MHD.SIGNALS:BP16_GHK  \n",
       "0                                          NaN  \n",
       "1                                          NaN  \n",
       "2                                          NaN  \n",
       "3                                          NaN  \n",
       "4                                          NaN  \n",
       "\n",
       "[5 rows x 198 columns]"
      ]
     },
     "execution_count": 19,
     "metadata": {},
     "output_type": "execute_result"
    }
   ],
   "source": [
    "test_x_cmod_df.head()"
   ]
  },
  {
   "cell_type": "code",
   "execution_count": 38,
   "id": "b4a207a7-4aea-40f2-8c59-34a9f4324ef8",
   "metadata": {
    "tags": []
   },
   "outputs": [
    {
     "data": {
      "text/html": [
       "<div>\n",
       "<style scoped>\n",
       "    .dataframe tbody tr th:only-of-type {\n",
       "        vertical-align: middle;\n",
       "    }\n",
       "\n",
       "    .dataframe tbody tr th {\n",
       "        vertical-align: top;\n",
       "    }\n",
       "\n",
       "    .dataframe thead th {\n",
       "        text-align: right;\n",
       "    }\n",
       "</style>\n",
       "<table border=\"1\" class=\"dataframe\">\n",
       "  <thead>\n",
       "    <tr style=\"text-align: right;\">\n",
       "      <th></th>\n",
       "      <th>AXUV_CA_02</th>\n",
       "      <th>AXUV_CA_06</th>\n",
       "      <th>AXUV_CA_10</th>\n",
       "      <th>AXUV_CA_14</th>\n",
       "      <th>AXUV_CB_18</th>\n",
       "      <th>AXUV_CB_22</th>\n",
       "      <th>AXUV_CB_26</th>\n",
       "      <th>AXUV_CB_30</th>\n",
       "      <th>AXUV_CE_66</th>\n",
       "      <th>AXUV_CE_70</th>\n",
       "      <th>...</th>\n",
       "      <th>sxr_cc_054</th>\n",
       "      <th>sxr_cc_055</th>\n",
       "      <th>sxr_cc_056</th>\n",
       "      <th>sxr_cc_057</th>\n",
       "      <th>sxr_cc_058</th>\n",
       "      <th>sxr_cc_059</th>\n",
       "      <th>sxr_cc_060</th>\n",
       "      <th>vl</th>\n",
       "      <th>vs_c3_aa018</th>\n",
       "      <th>Shot_list</th>\n",
       "    </tr>\n",
       "  </thead>\n",
       "  <tbody>\n",
       "    <tr>\n",
       "      <th>0</th>\n",
       "      <td>0.004117</td>\n",
       "      <td>0.000749</td>\n",
       "      <td>0.001913</td>\n",
       "      <td>0.002700</td>\n",
       "      <td>274.472462</td>\n",
       "      <td>295.295605</td>\n",
       "      <td>603.843927</td>\n",
       "      <td>6.471056</td>\n",
       "      <td>166.282142</td>\n",
       "      <td>205.286680</td>\n",
       "      <td>...</td>\n",
       "      <td>452.313538</td>\n",
       "      <td>350.903274</td>\n",
       "      <td>244.752777</td>\n",
       "      <td>156.079370</td>\n",
       "      <td>93.583202</td>\n",
       "      <td>51.789313</td>\n",
       "      <td>26.497771</td>\n",
       "      <td>1443.521017</td>\n",
       "      <td>502.279370</td>\n",
       "      <td>ID_1052049</td>\n",
       "    </tr>\n",
       "    <tr>\n",
       "      <th>1</th>\n",
       "      <td>151.223528</td>\n",
       "      <td>187.277583</td>\n",
       "      <td>356.875999</td>\n",
       "      <td>26.823558</td>\n",
       "      <td>122.832797</td>\n",
       "      <td>137.164923</td>\n",
       "      <td>199.067237</td>\n",
       "      <td>3.552601</td>\n",
       "      <td>73.866313</td>\n",
       "      <td>76.732613</td>\n",
       "      <td>...</td>\n",
       "      <td>123.086532</td>\n",
       "      <td>77.315146</td>\n",
       "      <td>44.482799</td>\n",
       "      <td>25.275620</td>\n",
       "      <td>14.294747</td>\n",
       "      <td>7.872120</td>\n",
       "      <td>4.296249</td>\n",
       "      <td>647.892360</td>\n",
       "      <td>80.525575</td>\n",
       "      <td>ID_1055276</td>\n",
       "    </tr>\n",
       "    <tr>\n",
       "      <th>2</th>\n",
       "      <td>414.949817</td>\n",
       "      <td>582.335424</td>\n",
       "      <td>1045.279103</td>\n",
       "      <td>94.264041</td>\n",
       "      <td>136.709745</td>\n",
       "      <td>159.486597</td>\n",
       "      <td>110.270022</td>\n",
       "      <td>0.997493</td>\n",
       "      <td>236.431201</td>\n",
       "      <td>292.150984</td>\n",
       "      <td>...</td>\n",
       "      <td>549.197635</td>\n",
       "      <td>414.561723</td>\n",
       "      <td>276.055031</td>\n",
       "      <td>165.013037</td>\n",
       "      <td>90.675153</td>\n",
       "      <td>44.432935</td>\n",
       "      <td>20.986154</td>\n",
       "      <td>1425.770464</td>\n",
       "      <td>610.909144</td>\n",
       "      <td>ID_1058014</td>\n",
       "    </tr>\n",
       "    <tr>\n",
       "      <th>3</th>\n",
       "      <td>163.595429</td>\n",
       "      <td>179.596307</td>\n",
       "      <td>249.261059</td>\n",
       "      <td>35.856845</td>\n",
       "      <td>121.040730</td>\n",
       "      <td>133.825573</td>\n",
       "      <td>141.431449</td>\n",
       "      <td>4.014172</td>\n",
       "      <td>73.026711</td>\n",
       "      <td>83.947422</td>\n",
       "      <td>...</td>\n",
       "      <td>68.014465</td>\n",
       "      <td>43.486788</td>\n",
       "      <td>24.191642</td>\n",
       "      <td>13.330661</td>\n",
       "      <td>7.190716</td>\n",
       "      <td>3.864045</td>\n",
       "      <td>1.736649</td>\n",
       "      <td>1153.602130</td>\n",
       "      <td>86.560705</td>\n",
       "      <td>ID_1053208</td>\n",
       "    </tr>\n",
       "    <tr>\n",
       "      <th>4</th>\n",
       "      <td>350.828240</td>\n",
       "      <td>0.003829</td>\n",
       "      <td>0.001443</td>\n",
       "      <td>222.140584</td>\n",
       "      <td>0.002894</td>\n",
       "      <td>0.002414</td>\n",
       "      <td>0.002436</td>\n",
       "      <td>0.003031</td>\n",
       "      <td>16.722326</td>\n",
       "      <td>16.868234</td>\n",
       "      <td>...</td>\n",
       "      <td>208.509061</td>\n",
       "      <td>151.535359</td>\n",
       "      <td>95.486642</td>\n",
       "      <td>56.170084</td>\n",
       "      <td>31.308580</td>\n",
       "      <td>16.315708</td>\n",
       "      <td>7.770002</td>\n",
       "      <td>1401.105023</td>\n",
       "      <td>443.656876</td>\n",
       "      <td>ID_1054172</td>\n",
       "    </tr>\n",
       "    <tr>\n",
       "      <th>5</th>\n",
       "      <td>95.067434</td>\n",
       "      <td>100.448165</td>\n",
       "      <td>224.313532</td>\n",
       "      <td>25.456871</td>\n",
       "      <td>73.936166</td>\n",
       "      <td>67.236181</td>\n",
       "      <td>114.377625</td>\n",
       "      <td>2.636565</td>\n",
       "      <td>43.790068</td>\n",
       "      <td>47.799708</td>\n",
       "      <td>...</td>\n",
       "      <td>33.044671</td>\n",
       "      <td>24.080121</td>\n",
       "      <td>15.820584</td>\n",
       "      <td>9.351247</td>\n",
       "      <td>4.989020</td>\n",
       "      <td>2.601083</td>\n",
       "      <td>1.258517</td>\n",
       "      <td>1731.614563</td>\n",
       "      <td>73.022255</td>\n",
       "      <td>ID_1055333</td>\n",
       "    </tr>\n",
       "    <tr>\n",
       "      <th>6</th>\n",
       "      <td>79.037341</td>\n",
       "      <td>115.424285</td>\n",
       "      <td>674.005582</td>\n",
       "      <td>50.687582</td>\n",
       "      <td>55.471493</td>\n",
       "      <td>58.172208</td>\n",
       "      <td>210.735332</td>\n",
       "      <td>1.537289</td>\n",
       "      <td>30.477127</td>\n",
       "      <td>35.427831</td>\n",
       "      <td>...</td>\n",
       "      <td>63.377469</td>\n",
       "      <td>46.297928</td>\n",
       "      <td>29.377785</td>\n",
       "      <td>17.186371</td>\n",
       "      <td>9.461691</td>\n",
       "      <td>4.946630</td>\n",
       "      <td>2.405480</td>\n",
       "      <td>928.618417</td>\n",
       "      <td>71.518699</td>\n",
       "      <td>ID_1054871</td>\n",
       "    </tr>\n",
       "    <tr>\n",
       "      <th>7</th>\n",
       "      <td>174.782237</td>\n",
       "      <td>201.855434</td>\n",
       "      <td>507.139855</td>\n",
       "      <td>86.939932</td>\n",
       "      <td>147.833099</td>\n",
       "      <td>126.375550</td>\n",
       "      <td>174.916560</td>\n",
       "      <td>1.679552</td>\n",
       "      <td>88.480638</td>\n",
       "      <td>92.271925</td>\n",
       "      <td>...</td>\n",
       "      <td>85.397230</td>\n",
       "      <td>55.620815</td>\n",
       "      <td>31.170364</td>\n",
       "      <td>16.786896</td>\n",
       "      <td>8.730465</td>\n",
       "      <td>4.309283</td>\n",
       "      <td>2.016777</td>\n",
       "      <td>1393.940092</td>\n",
       "      <td>259.027230</td>\n",
       "      <td>ID_1055763</td>\n",
       "    </tr>\n",
       "    <tr>\n",
       "      <th>8</th>\n",
       "      <td>43.389604</td>\n",
       "      <td>49.690541</td>\n",
       "      <td>169.345336</td>\n",
       "      <td>19.015541</td>\n",
       "      <td>32.687642</td>\n",
       "      <td>28.439793</td>\n",
       "      <td>65.748719</td>\n",
       "      <td>1.028850</td>\n",
       "      <td>19.385528</td>\n",
       "      <td>21.376731</td>\n",
       "      <td>...</td>\n",
       "      <td>30.036976</td>\n",
       "      <td>18.858453</td>\n",
       "      <td>11.238565</td>\n",
       "      <td>6.679940</td>\n",
       "      <td>3.894762</td>\n",
       "      <td>2.268096</td>\n",
       "      <td>1.088235</td>\n",
       "      <td>498.197456</td>\n",
       "      <td>11.966925</td>\n",
       "      <td>ID_1053064</td>\n",
       "    </tr>\n",
       "    <tr>\n",
       "      <th>9</th>\n",
       "      <td>444.837614</td>\n",
       "      <td>626.958838</td>\n",
       "      <td>1217.848857</td>\n",
       "      <td>116.083587</td>\n",
       "      <td>226.687543</td>\n",
       "      <td>245.822944</td>\n",
       "      <td>172.302511</td>\n",
       "      <td>2.487181</td>\n",
       "      <td>248.440142</td>\n",
       "      <td>311.767255</td>\n",
       "      <td>...</td>\n",
       "      <td>440.785988</td>\n",
       "      <td>334.663310</td>\n",
       "      <td>222.862227</td>\n",
       "      <td>131.908943</td>\n",
       "      <td>73.684662</td>\n",
       "      <td>37.028800</td>\n",
       "      <td>18.008817</td>\n",
       "      <td>1850.328264</td>\n",
       "      <td>1046.354808</td>\n",
       "      <td>ID_1057477</td>\n",
       "    </tr>\n",
       "  </tbody>\n",
       "</table>\n",
       "<p>10 rows × 90 columns</p>\n",
       "</div>"
      ],
      "text/plain": [
       "   AXUV_CA_02  AXUV_CA_06   AXUV_CA_10  AXUV_CA_14  AXUV_CB_18  AXUV_CB_22  \\\n",
       "0    0.004117    0.000749     0.001913    0.002700  274.472462  295.295605   \n",
       "1  151.223528  187.277583   356.875999   26.823558  122.832797  137.164923   \n",
       "2  414.949817  582.335424  1045.279103   94.264041  136.709745  159.486597   \n",
       "3  163.595429  179.596307   249.261059   35.856845  121.040730  133.825573   \n",
       "4  350.828240    0.003829     0.001443  222.140584    0.002894    0.002414   \n",
       "5   95.067434  100.448165   224.313532   25.456871   73.936166   67.236181   \n",
       "6   79.037341  115.424285   674.005582   50.687582   55.471493   58.172208   \n",
       "7  174.782237  201.855434   507.139855   86.939932  147.833099  126.375550   \n",
       "8   43.389604   49.690541   169.345336   19.015541   32.687642   28.439793   \n",
       "9  444.837614  626.958838  1217.848857  116.083587  226.687543  245.822944   \n",
       "\n",
       "   AXUV_CB_26  AXUV_CB_30  AXUV_CE_66  AXUV_CE_70  ...  sxr_cc_054  \\\n",
       "0  603.843927    6.471056  166.282142  205.286680  ...  452.313538   \n",
       "1  199.067237    3.552601   73.866313   76.732613  ...  123.086532   \n",
       "2  110.270022    0.997493  236.431201  292.150984  ...  549.197635   \n",
       "3  141.431449    4.014172   73.026711   83.947422  ...   68.014465   \n",
       "4    0.002436    0.003031   16.722326   16.868234  ...  208.509061   \n",
       "5  114.377625    2.636565   43.790068   47.799708  ...   33.044671   \n",
       "6  210.735332    1.537289   30.477127   35.427831  ...   63.377469   \n",
       "7  174.916560    1.679552   88.480638   92.271925  ...   85.397230   \n",
       "8   65.748719    1.028850   19.385528   21.376731  ...   30.036976   \n",
       "9  172.302511    2.487181  248.440142  311.767255  ...  440.785988   \n",
       "\n",
       "   sxr_cc_055  sxr_cc_056  sxr_cc_057  sxr_cc_058  sxr_cc_059  sxr_cc_060  \\\n",
       "0  350.903274  244.752777  156.079370   93.583202   51.789313   26.497771   \n",
       "1   77.315146   44.482799   25.275620   14.294747    7.872120    4.296249   \n",
       "2  414.561723  276.055031  165.013037   90.675153   44.432935   20.986154   \n",
       "3   43.486788   24.191642   13.330661    7.190716    3.864045    1.736649   \n",
       "4  151.535359   95.486642   56.170084   31.308580   16.315708    7.770002   \n",
       "5   24.080121   15.820584    9.351247    4.989020    2.601083    1.258517   \n",
       "6   46.297928   29.377785   17.186371    9.461691    4.946630    2.405480   \n",
       "7   55.620815   31.170364   16.786896    8.730465    4.309283    2.016777   \n",
       "8   18.858453   11.238565    6.679940    3.894762    2.268096    1.088235   \n",
       "9  334.663310  222.862227  131.908943   73.684662   37.028800   18.008817   \n",
       "\n",
       "            vl  vs_c3_aa018   Shot_list  \n",
       "0  1443.521017   502.279370  ID_1052049  \n",
       "1   647.892360    80.525575  ID_1055276  \n",
       "2  1425.770464   610.909144  ID_1058014  \n",
       "3  1153.602130    86.560705  ID_1053208  \n",
       "4  1401.105023   443.656876  ID_1054172  \n",
       "5  1731.614563    73.022255  ID_1055333  \n",
       "6   928.618417    71.518699  ID_1054871  \n",
       "7  1393.940092   259.027230  ID_1055763  \n",
       "8   498.197456    11.966925  ID_1053064  \n",
       "9  1850.328264  1046.354808  ID_1057477  \n",
       "\n",
       "[10 rows x 90 columns]"
      ]
     },
     "execution_count": 38,
     "metadata": {},
     "output_type": "execute_result"
    }
   ],
   "source": [
    "train_x_jtext_df.head(10)"
   ]
  },
  {
   "cell_type": "code",
   "execution_count": 21,
   "id": "55045f2d-0921-4005-923b-9454cea0f5fa",
   "metadata": {
    "tags": []
   },
   "outputs": [
    {
     "data": {
      "text/html": [
       "<div>\n",
       "<style scoped>\n",
       "    .dataframe tbody tr th:only-of-type {\n",
       "        vertical-align: middle;\n",
       "    }\n",
       "\n",
       "    .dataframe tbody tr th {\n",
       "        vertical-align: top;\n",
       "    }\n",
       "\n",
       "    .dataframe thead th {\n",
       "        text-align: right;\n",
       "    }\n",
       "</style>\n",
       "<table border=\"1\" class=\"dataframe\">\n",
       "  <thead>\n",
       "    <tr style=\"text-align: right;\">\n",
       "      <th></th>\n",
       "      <th>CCO-DF:DENSITY1</th>\n",
       "      <th>CCO-DF:GASFBOUT</th>\n",
       "      <th>CCO-LFB:LFBBOH</th>\n",
       "      <th>CCO-LFB:LFBBT</th>\n",
       "      <th>CCO-LFB:LFBBV</th>\n",
       "      <th>CCO-LFB:LFBIRF</th>\n",
       "      <th>CCO-LFB:LFBMP1</th>\n",
       "      <th>CCO-LFB:LFBMP2</th>\n",
       "      <th>CCO-LFB:LFDH</th>\n",
       "      <th>CCO-LFB:LFDV</th>\n",
       "      <th>...</th>\n",
       "      <th>DS-SXR-SXA:SX18</th>\n",
       "      <th>DS-SXR-SXA:SX19</th>\n",
       "      <th>DS-SXR-SXA:SX20</th>\n",
       "      <th>DS-TMP:PUFFCTRL</th>\n",
       "      <th>EFIT_q95</th>\n",
       "      <th>GW_Ratio</th>\n",
       "      <th>Ip_Error</th>\n",
       "      <th>RadiatedFraction</th>\n",
       "      <th>RotatingModeProxy</th>\n",
       "      <th>Shot_list</th>\n",
       "    </tr>\n",
       "  </thead>\n",
       "  <tbody>\n",
       "    <tr>\n",
       "      <th>0</th>\n",
       "      <td>6288.000993</td>\n",
       "      <td>262.509102</td>\n",
       "      <td>77430.602017</td>\n",
       "      <td>957218.279478</td>\n",
       "      <td>297574.373035</td>\n",
       "      <td>844.555869</td>\n",
       "      <td>358188.949523</td>\n",
       "      <td>500183.573067</td>\n",
       "      <td>1445.806329</td>\n",
       "      <td>4732.936257</td>\n",
       "      <td>...</td>\n",
       "      <td>808.132662</td>\n",
       "      <td>147.985045</td>\n",
       "      <td>35.787802</td>\n",
       "      <td>368132.144570</td>\n",
       "      <td>22492.701167</td>\n",
       "      <td>484.400487</td>\n",
       "      <td>30048.563997</td>\n",
       "      <td>2.009755e+04</td>\n",
       "      <td>0.015177</td>\n",
       "      <td>ID_36694</td>\n",
       "    </tr>\n",
       "    <tr>\n",
       "      <th>1</th>\n",
       "      <td>1550.721931</td>\n",
       "      <td>241.610116</td>\n",
       "      <td>45348.930443</td>\n",
       "      <td>555196.410884</td>\n",
       "      <td>104686.312142</td>\n",
       "      <td>363.024795</td>\n",
       "      <td>0.101659</td>\n",
       "      <td>0.266430</td>\n",
       "      <td>569.987963</td>\n",
       "      <td>3887.157997</td>\n",
       "      <td>...</td>\n",
       "      <td>0.862126</td>\n",
       "      <td>2.328947</td>\n",
       "      <td>1.489772</td>\n",
       "      <td>515586.683379</td>\n",
       "      <td>15670.171046</td>\n",
       "      <td>105.818840</td>\n",
       "      <td>11272.650498</td>\n",
       "      <td>1.404387e+09</td>\n",
       "      <td>0.082587</td>\n",
       "      <td>ID_36047</td>\n",
       "    </tr>\n",
       "  </tbody>\n",
       "</table>\n",
       "<p>2 rows × 86 columns</p>\n",
       "</div>"
      ],
      "text/plain": [
       "   CCO-DF:DENSITY1  CCO-DF:GASFBOUT  CCO-LFB:LFBBOH  CCO-LFB:LFBBT  \\\n",
       "0      6288.000993       262.509102    77430.602017  957218.279478   \n",
       "1      1550.721931       241.610116    45348.930443  555196.410884   \n",
       "\n",
       "   CCO-LFB:LFBBV  CCO-LFB:LFBIRF  CCO-LFB:LFBMP1  CCO-LFB:LFBMP2  \\\n",
       "0  297574.373035      844.555869   358188.949523   500183.573067   \n",
       "1  104686.312142      363.024795        0.101659        0.266430   \n",
       "\n",
       "   CCO-LFB:LFDH  CCO-LFB:LFDV  ...  DS-SXR-SXA:SX18  DS-SXR-SXA:SX19  \\\n",
       "0   1445.806329   4732.936257  ...       808.132662       147.985045   \n",
       "1    569.987963   3887.157997  ...         0.862126         2.328947   \n",
       "\n",
       "   DS-SXR-SXA:SX20  DS-TMP:PUFFCTRL      EFIT_q95    GW_Ratio      Ip_Error  \\\n",
       "0        35.787802    368132.144570  22492.701167  484.400487  30048.563997   \n",
       "1         1.489772    515586.683379  15670.171046  105.818840  11272.650498   \n",
       "\n",
       "   RadiatedFraction  RotatingModeProxy  Shot_list  \n",
       "0      2.009755e+04           0.015177   ID_36694  \n",
       "1      1.404387e+09           0.082587   ID_36047  \n",
       "\n",
       "[2 rows x 86 columns]"
      ]
     },
     "execution_count": 21,
     "metadata": {},
     "output_type": "execute_result"
    }
   ],
   "source": [
    "train_x_hl_2a_df.head(2)"
   ]
  },
  {
   "cell_type": "code",
   "execution_count": 22,
   "id": "de11a6d7-0e53-4566-ad91-97b2e1f1197a",
   "metadata": {},
   "outputs": [
    {
     "name": "stdout",
     "output_type": "stream",
     "text": [
      "['.tci.results:nl_04', 'Greenwald_fraction', '\\\\AXA.chord_1', '\\\\AXA.chord_10', '\\\\AXA.chord_11', '\\\\AXA.chord_12', '\\\\AXA.chord_13', '\\\\AXA.chord_14', '\\\\AXA.chord_15', '\\\\AXA.chord_16', '\\\\AXA.chord_17', '\\\\AXA.chord_18', '\\\\AXA.chord_19', '\\\\AXA.chord_2', '\\\\AXA.chord_20', '\\\\AXA.chord_21', '\\\\AXA.chord_22', '\\\\AXA.chord_3', '\\\\AXA.chord_4', '\\\\AXA.chord_5', '\\\\AXA.chord_6', '\\\\AXA.chord_7', '\\\\AXA.chord_8', '\\\\AXA.chord_9', '\\\\AXJ.chord_1', '\\\\AXJ.chord_10', '\\\\AXJ.chord_11', '\\\\AXJ.chord_12', '\\\\AXJ.chord_13', '\\\\AXJ.chord_14', '\\\\AXJ.chord_15', '\\\\AXJ.chord_16', '\\\\AXJ.chord_17', '\\\\AXJ.chord_18', '\\\\AXJ.chord_19', '\\\\AXJ.chord_2', '\\\\AXJ.chord_20', '\\\\AXJ.chord_21', '\\\\AXJ.chord_22', '\\\\AXJ.chord_23', '\\\\AXJ.chord_24', '\\\\AXJ.chord_25', '\\\\AXJ.chord_26', '\\\\AXJ.chord_27', '\\\\AXJ.chord_3', '\\\\AXJ.chord_4', '\\\\AXJ.chord_5', '\\\\AXJ.chord_6', '\\\\AXJ.chord_7', '\\\\AXJ.chord_8', '\\\\AXJ.chord_9', '\\\\MAGNETICS::TOP.ACTIVE_MHD.SIGNALS:BP01_GHK', '\\\\MAGNETICS::TOP.ACTIVE_MHD.SIGNALS:BP02_GHK', '\\\\MAGNETICS::TOP.ACTIVE_MHD.SIGNALS:BP04_GHK', '\\\\MAGNETICS::TOP.ACTIVE_MHD.SIGNALS:BP05_GHK', '\\\\MAGNETICS::TOP.ACTIVE_MHD.SIGNALS:BP06_GHK', '\\\\MAGNETICS::TOP.ACTIVE_MHD.SIGNALS:BP07_ABK', '\\\\MAGNETICS::TOP.ACTIVE_MHD.SIGNALS:BP07_GHK', '\\\\MAGNETICS::TOP.ACTIVE_MHD.SIGNALS:BP08_ABK', '\\\\MAGNETICS::TOP.ACTIVE_MHD.SIGNALS:BP08_GHK', '\\\\MAGNETICS::TOP.ACTIVE_MHD.SIGNALS:BP10_GHK', '\\\\MAGNETICS::TOP.ACTIVE_MHD.SIGNALS:BP11_GHK', '\\\\MAGNETICS::TOP.ACTIVE_MHD.SIGNALS:BP12_GHK', '\\\\MAGNETICS::TOP.ACTIVE_MHD.SIGNALS:BP13_GHK', '\\\\MAGNETICS::TOP.ACTIVE_MHD.SIGNALS:BP14_GHK', '\\\\MAGNETICS::TOP.ACTIVE_MHD.SIGNALS:BP1T_GHK', '\\\\MAGNETICS::TOP.ACTIVE_MHD.SIGNALS:BP20_ABK', '\\\\MAGNETICS::TOP.ACTIVE_MHD.SIGNALS:BP2T_GHK', '\\\\MAGNETICS::TOP.ACTIVE_MHD.SIGNALS:BP3T_GHK', '\\\\MAGNETICS::TOP.ACTIVE_MHD.SIGNALS:BP4T_ABK', '\\\\MAGNETICS::TOP.ACTIVE_MHD.SIGNALS:BP5T_ABK', '\\\\MAGNETICS::TOP.ACTIVE_MHD.SIGNALS:BP6T_ABK', '\\\\MAGNETICS::TOP.ACTIVE_MHD.SIGNALS:BP_AB_TOP', '\\\\MAGNETICS::TOP.ACTIVE_MHD.SIGNALS:BP_BC_BOT', '\\\\MAGNETICS::TOP.ACTIVE_MHD.SIGNALS:BP_BC_TOP', '\\\\MAGNETICS::TOP.ACTIVE_MHD.SIGNALS:BP_EF_BOT', '\\\\MAGNETICS::TOP.ACTIVE_MHD.SIGNALS:BP_EF_TOP', '\\\\MAGNETICS::TOP.ACTIVE_MHD.SIGNALS:BP_KA_BOT', '\\\\MAGNETICS::TOP.ACTIVE_MHD.SIGNALS:BP_KA_TOP', '\\\\btor', '\\\\efit_aeqdsk:aminor', '\\\\efit_aeqdsk:betan', '\\\\efit_aeqdsk:kappa', '\\\\efit_aeqdsk:li', '\\\\efit_aeqdsk:q95', '\\\\efit_aeqdsk:rmagx', '\\\\efit_aeqdsk:vloopt', '\\\\efit_aeqdsk:wplasm', '\\\\efit_aeqdsk:zmagx', '\\\\ip', '\\\\twopi_diode', '\\\\xtomo::top.brightnesses.array_1:chord_01', '\\\\xtomo::top.brightnesses.array_1:chord_02', '\\\\xtomo::top.brightnesses.array_1:chord_03', '\\\\xtomo::top.brightnesses.array_1:chord_04', '\\\\xtomo::top.brightnesses.array_1:chord_05', '\\\\xtomo::top.brightnesses.array_1:chord_06', '\\\\xtomo::top.brightnesses.array_1:chord_07', '\\\\xtomo::top.brightnesses.array_1:chord_08', '\\\\xtomo::top.brightnesses.array_1:chord_09', '\\\\xtomo::top.brightnesses.array_1:chord_10', '\\\\xtomo::top.brightnesses.array_1:chord_11', '\\\\xtomo::top.brightnesses.array_1:chord_12', '\\\\xtomo::top.brightnesses.array_1:chord_13', '\\\\xtomo::top.brightnesses.array_1:chord_14', '\\\\xtomo::top.brightnesses.array_1:chord_15', '\\\\xtomo::top.brightnesses.array_1:chord_16', '\\\\xtomo::top.brightnesses.array_1:chord_17', '\\\\xtomo::top.brightnesses.array_1:chord_18', '\\\\xtomo::top.brightnesses.array_1:chord_19', '\\\\xtomo::top.brightnesses.array_1:chord_20', '\\\\xtomo::top.brightnesses.array_1:chord_21', '\\\\xtomo::top.brightnesses.array_1:chord_22', '\\\\xtomo::top.brightnesses.array_1:chord_23', '\\\\xtomo::top.brightnesses.array_1:chord_24', '\\\\xtomo::top.brightnesses.array_1:chord_25', '\\\\xtomo::top.brightnesses.array_1:chord_26', '\\\\xtomo::top.brightnesses.array_1:chord_27', '\\\\xtomo::top.brightnesses.array_1:chord_28', '\\\\xtomo::top.brightnesses.array_1:chord_29', '\\\\xtomo::top.brightnesses.array_1:chord_30', '\\\\xtomo::top.brightnesses.array_1:chord_31', '\\\\xtomo::top.brightnesses.array_1:chord_32', '\\\\xtomo::top.brightnesses.array_1:chord_33', '\\\\xtomo::top.brightnesses.array_1:chord_34', '\\\\xtomo::top.brightnesses.array_1:chord_35', '\\\\xtomo::top.brightnesses.array_1:chord_36', '\\\\xtomo::top.brightnesses.array_1:chord_37', '\\\\xtomo::top.brightnesses.array_1:chord_38', '\\\\xtomo::top.brightnesses.array_3:chord_01', '\\\\xtomo::top.brightnesses.array_3:chord_02', '\\\\xtomo::top.brightnesses.array_3:chord_03', '\\\\xtomo::top.brightnesses.array_3:chord_04', '\\\\xtomo::top.brightnesses.array_3:chord_05', '\\\\xtomo::top.brightnesses.array_3:chord_06', '\\\\xtomo::top.brightnesses.array_3:chord_07', '\\\\xtomo::top.brightnesses.array_3:chord_08', '\\\\xtomo::top.brightnesses.array_3:chord_09', '\\\\xtomo::top.brightnesses.array_3:chord_10', '\\\\xtomo::top.brightnesses.array_3:chord_11', '\\\\xtomo::top.brightnesses.array_3:chord_12', '\\\\xtomo::top.brightnesses.array_3:chord_13', '\\\\xtomo::top.brightnesses.array_3:chord_14', '\\\\xtomo::top.brightnesses.array_3:chord_15', '\\\\xtomo::top.brightnesses.array_3:chord_16', '\\\\xtomo::top.brightnesses.array_3:chord_17', '\\\\xtomo::top.brightnesses.array_3:chord_18', '\\\\xtomo::top.brightnesses.array_3:chord_19', '\\\\xtomo::top.brightnesses.array_3:chord_20', '\\\\xtomo::top.brightnesses.array_3:chord_21', '\\\\xtomo::top.brightnesses.array_3:chord_22', '\\\\xtomo::top.brightnesses.array_3:chord_23', '\\\\xtomo::top.brightnesses.array_3:chord_24', '\\\\xtomo::top.brightnesses.array_3:chord_25', '\\\\xtomo::top.brightnesses.array_3:chord_26', '\\\\xtomo::top.brightnesses.array_3:chord_27', '\\\\xtomo::top.brightnesses.array_3:chord_28', '\\\\xtomo::top.brightnesses.array_3:chord_29', '\\\\xtomo::top.brightnesses.array_3:chord_30', '\\\\xtomo::top.brightnesses.array_3:chord_31', '\\\\xtomo::top.brightnesses.array_3:chord_32', '\\\\xtomo::top.brightnesses.array_3:chord_33', '\\\\xtomo::top.brightnesses.array_3:chord_34', '\\\\xtomo::top.brightnesses.array_3:chord_35', '\\\\xtomo::top.brightnesses.array_3:chord_36', '\\\\xtomo::top.brightnesses.array_3:chord_37', '\\\\xtomo::top.brightnesses.array_3:chord_38', 'ip_err_frac', 'n1_norm', 'radiated_frac', 'rotating_mode', 'time_until_disrupt', 'Shot_list']\n",
      "173\n"
     ]
    },
    {
     "data": {
      "text/plain": [
       "(20, 173)"
      ]
     },
     "execution_count": 22,
     "metadata": {},
     "output_type": "execute_result"
    }
   ],
   "source": [
    "cmod_train_features = train_x_cmod_df.columns.tolist()\n",
    "print(cmod_train_features)\n",
    "n = len(cmod_train_features)\n",
    "print(n)\n",
    "train_x_cmod_df.shape"
   ]
  },
  {
   "cell_type": "code",
   "execution_count": 40,
   "id": "1f74365b-cf02-4c31-ab9e-4a611cbc26af",
   "metadata": {
    "tags": []
   },
   "outputs": [
    {
     "name": "stdout",
     "output_type": "stream",
     "text": [
      "['plasma_current', 'toroidal_magnetic_field', 'horizontal_displacement', 'vertical_displacement', 'line_integral_density(center_chord)', 'c3_radiation', 'loop_voltage', 'axuv_01', 'axuv_02', 'axuv_03', 'axuv_04', 'axuv_05', 'axuv_06', 'axuv_07', 'axuv_08', 'axuv_09', 'axuv_10', 'axuv_11', 'axuv_12', 'axuv_13', 'axuv_14', 'axuv_15', 'axuv_16', 'axuv_17', 'axuv_18', 'axuv_19', 'axuv_20', 'axuv_21', 'axuv_22', 'soft_x_ray_01', 'soft_x_ray_02', 'soft_x_ray_03', 'soft_x_ray_04', 'soft_x_ray_05', 'soft_x_ray_06', 'soft_x_ray_07', 'soft_x_ray_08', 'soft_x_ray_09', 'soft_x_ray_10', 'soft_x_ray_11', 'soft_x_ray_12', 'soft_x_ray_13', 'soft_x_ray_14', 'soft_x_ray_15', 'soft_x_ray_16', 'soft_x_ray_17', 'soft_x_ray_18', 'soft_x_ray_19', 'soft_x_ray_20', 'soft_x_ray_21', 'soft_x_ray_22', 'soft_x_ray_23', 'soft_x_ray_24', 'soft_x_ray_25', 'soft_x_ray_26', 'soft_x_ray_27', 'soft_x_ray_28', 'soft_x_ray_29', 'soft_x_ray_30', 'soft_x_ray_31', 'soft_x_ray_32', 'soft_x_ray_33', 'soft_x_ray_34', 'soft_x_ray_35', 'soft_x_ray_36', 'soft_x_ray_37', 'soft_x_ray_38', 'poloidal_mirnov_probes_01', 'poloidal_mirnov_probes_02', 'poloidal_mirnov_probes_03', 'poloidal_mirnov_probes_04', 'poloidal_mirnov_probes_05', 'poloidal_mirnov_probes_06', 'poloidal_mirnov_probes_07', 'poloidal_mirnov_probes_08', 'poloidal_mirnov_probes_09', 'poloidal_mirnov_probes_10', 'poloidal_mirnov_probes_11', 'poloidal_mirnov_probes_12', 'poloidal_mirnov_probes_13', 'poloidal_mirnov_probes_14', 'poloidal_mirnov_probes_15', 'poloidal_mirnov_probes_16', 'poloidal_mirnov_probes_17', 'poloidal_mirnov_probes_18', 'toroidal_mirnov_probes_01', 'toroidal_mirnov_probes_02', 'toroidal_mirnov_probes_03', 'toroidal_mirnov_probes_04', 'toroidal_mirnov_probes_05', 'toroidal_mirnov_probes_06', 'toroidal_mirnov_probes_07', 'toroidal_mirnov_probes_09', 'toroidal_mirnov_probes_10', 'density_measurement1', 'density_measurement2', 'density_measurement3', 'density_measurement4', 'greenwald_fraction', 'lm_proxy', 'q95_proxy', 'ip_error_fraction', 'radiation_fraction', 'rotating_mode_proxy', 'unknown_bp_ka_top', 'unknown_bp_ef_top', 'unknown_bp_ka_bot', 'unknown_aminor', 'unknown_betan', 'unknown_kappa', 'unknown_li', 'unknown_wplasm', 'Shot_list']\n"
     ]
    }
   ],
   "source": [
    "col_feat_b = test_x_cmod_df.columns.tolist()     #column names before renaming\n",
    "print(col_feat_b)\n"
   ]
  },
  {
   "cell_type": "markdown",
   "id": "882c85cd-3974-4f56-9b3e-591360750237",
   "metadata": {},
   "source": [
    "<div style=\"font-size: 30px;\">\n",
    "    Feature Engineering</div>"
   ]
  },
  {
   "cell_type": "markdown",
   "id": "28d078ab-9360-4f29-91f5-0096ea2f2770",
   "metadata": {
    "tags": []
   },
   "source": [
    "<div style=\"font-size: 20px;\">Renaming and Processing CMOD files</div>\n"
   ]
  },
  {
   "cell_type": "code",
   "execution_count": 28,
   "id": "b403b273-d737-4aff-b8d2-0374244f7c14",
   "metadata": {
    "tags": []
   },
   "outputs": [],
   "source": [
    "Diagnostics = \"plasma current,toroidal magnetic field,horizontal displacement,vertical displacement,line integral density(center chord),C3 radiation,loop voltage,AXUV_01,AXUV_02,AXUV_03,AXUV_04,AXUV_05,AXUV_06,AXUV_07,AXUV_08,AXUV_09,AXUV_10,AXUV_11,AXUV_12,AXUV_13,AXUV_14,AXUV_15,AXUV_16,AXUV_17,AXUV_18,AXUV_19,AXUV_20,AXUV_21,AXUV_22,soft-X-ray_01,soft-X-ray_02,soft-X-ray_03,soft-X-ray_04,soft-X-ray_05,soft-X-ray_06,soft-X-ray_07,soft-X-ray_08,soft-X-ray_09,soft-X-ray_10,soft-X-ray_11,soft-X-ray_12,soft-X-ray_13,soft-X-ray_14,soft-X-ray_15,soft-X-ray_16,soft-X-ray_17,soft-X-ray_18,soft-X-ray_19,soft-X-ray_20,soft-X-ray_21,soft-X-ray_22,soft-X-ray_23,soft-X-ray_24,soft-X-ray_25,soft-X-ray_26,soft-X-ray_27,soft-X-ray_28,soft-X-ray_29,soft-X-ray_30,soft-X-ray_31,soft-X-ray_32,soft-X-ray_33,soft-X-ray_34,soft-X-ray_35,soft-X-ray_36,soft-X-ray_37,soft-X-ray_38,poloidal Mirnov probes_01,poloidal Mirnov probes_02,poloidal Mirnov probes_03,poloidal Mirnov probes_04,poloidal Mirnov probes_05,poloidal Mirnov probes_06,poloidal Mirnov probes_07,poloidal Mirnov probes_08,poloidal Mirnov probes_09,poloidal Mirnov probes_10,poloidal Mirnov probes_11,poloidal Mirnov probes_12,poloidal Mirnov probes_13,poloidal Mirnov probes_14,poloidal Mirnov probes_15,poloidal Mirnov probes_16,poloidal Mirnov probes_17,poloidal Mirnov probes_18,toroidal Mirnov probes_01,toroidal Mirnov probes_02,toroidal Mirnov probes_03,toroidal Mirnov probes_04,toroidal Mirnov probes_05,toroidal Mirnov probes_06,toroidal Mirnov probes_07,toroidal Mirnov probes_09,toroidal Mirnov probes_10,Density_Measurement1,Density_Measurement2,Density_Measurement3,Density_Measurement4,Greenwald fraction,LM proxy,q95 proxy,IP error fraction,Radiation fraction,Rotating mode proxy,unknown_BP_KA_TOP,unknown_BP_EF_TOP,unknown_BP_KA_BOT,unknown_aminor,unknown_betan,unknown_kappa,unknown_li,unknown_wplasm\".replace(' ','_').replace('-', '_').lower().split(',')\n",
    "cmod_feats =[\"\\\\ip\", \"\\\\btor\", '\\\\efit_aeqdsk:rmagx', '\\\\efit_aeqdsk:zmagx', '.tci.results:nl_04','\\\\twopi_diode', '\\\\efit_aeqdsk:vloopt','\\\\AXA.chord_1 & \\\\AXJ.chord_1', '\\\\AXA.chord_2 & \\\\AXJ.chord_2', '\\\\AXA.chord_3 & \\\\AXJ.chord_3', '\\\\AXA.chord_4 & \\\\AXJ.chord_4', '\\\\AXA.chord_5 & \\\\AXJ.chord_5', '\\\\AXA.chord_6 & \\\\AXJ.chord_6', '\\\\AXA.chord_7 & \\\\AXJ.chord_7', '\\\\AXA.chord_8 & \\\\AXJ.chord_8', '\\\\AXA.chord_9 & \\\\AXJ.chord_9', '\\\\AXA.chord_10 & \\\\AXJ.chord_10', '\\\\AXA.chord_11 & \\\\AXJ.chord_11', '\\\\AXA.chord_12 & \\\\AXJ.chord_12', '\\\\AXA.chord_13 & \\\\AXJ.chord_13', '\\\\AXA.chord_14 & \\\\AXJ.chord_14', '\\\\AXA.chord_15 & \\\\AXJ.chord_15', '\\\\AXA.chord_16 & \\\\AXJ.chord_16', '\\\\AXA.chord_17 & \\\\AXJ.chord_17', '\\\\AXA.chord_18 & \\\\AXJ.chord_18', '\\\\AXA.chord_19 & \\\\AXJ.chord_19', '\\\\AXA.chord_20 & \\\\AXJ.chord_20', '\\\\AXA.chord_21 & \\\\AXJ.chord_21', '\\\\AXA.chord_22 & \\\\AXJ.chord_22','\\\\xtomo::top.brightnesses.array_1:chord_01 & \\\\xtomo::top.brightnesses.array_3:chord_01', '\\\\xtomo::top.brightnesses.array_1:chord_02 & \\\\xtomo::top.brightnesses.array_3:chord_02', '\\\\xtomo::top.brightnesses.array_1:chord_03 & \\\\xtomo::top.brightnesses.array_3:chord_03', '\\\\xtomo::top.brightnesses.array_1:chord_04 & \\\\xtomo::top.brightnesses.array_3:chord_04', '\\\\xtomo::top.brightnesses.array_1:chord_05 & \\\\xtomo::top.brightnesses.array_3:chord_05', '\\\\xtomo::top.brightnesses.array_1:chord_06 & \\\\xtomo::top.brightnesses.array_3:chord_06', '\\\\xtomo::top.brightnesses.array_1:chord_07 & \\\\xtomo::top.brightnesses.array_3:chord_07', '\\\\xtomo::top.brightnesses.array_1:chord_08 & \\\\xtomo::top.brightnesses.array_3:chord_08', '\\\\xtomo::top.brightnesses.array_1:chord_09 & \\\\xtomo::top.brightnesses.array_3:chord_09', '\\\\xtomo::top.brightnesses.array_1:chord_10 & \\\\xtomo::top.brightnesses.array_3:chord_10', '\\\\xtomo::top.brightnesses.array_1:chord_11 & \\\\xtomo::top.brightnesses.array_3:chord_11', '\\\\xtomo::top.brightnesses.array_1:chord_12 & \\\\xtomo::top.brightnesses.array_3:chord_12', '\\\\xtomo::top.brightnesses.array_1:chord_13 & \\\\xtomo::top.brightnesses.array_3:chord_13', '\\\\xtomo::top.brightnesses.array_1:chord_14 & \\\\xtomo::top.brightnesses.array_3:chord_14', '\\\\xtomo::top.brightnesses.array_1:chord_15 & \\\\xtomo::top.brightnesses.array_3:chord_15', '\\\\xtomo::top.brightnesses.array_1:chord_16 & \\\\xtomo::top.brightnesses.array_3:chord_16', '\\\\xtomo::top.brightnesses.array_1:chord_17 & \\\\xtomo::top.brightnesses.array_3:chord_17', '\\\\xtomo::top.brightnesses.array_1:chord_18 & \\\\xtomo::top.brightnesses.array_3:chord_18', '\\\\xtomo::top.brightnesses.array_1:chord_19 & \\\\xtomo::top.brightnesses.array_3:chord_19', '\\\\xtomo::top.brightnesses.array_1:chord_20 & \\\\xtomo::top.brightnesses.array_3:chord_20', '\\\\xtomo::top.brightnesses.array_1:chord_21 & \\\\xtomo::top.brightnesses.array_3:chord_21', '\\\\xtomo::top.brightnesses.array_1:chord_22 & \\\\xtomo::top.brightnesses.array_3:chord_22', '\\\\xtomo::top.brightnesses.array_1:chord_23 & \\\\xtomo::top.brightnesses.array_3:chord_23', '\\\\xtomo::top.brightnesses.array_1:chord_24 & \\\\xtomo::top.brightnesses.array_3:chord_24', '\\\\xtomo::top.brightnesses.array_1:chord_25 & \\\\xtomo::top.brightnesses.array_3:chord_25','\\\\xtomo::top.brightnesses.array_1:chord_26 & \\\\xtomo::top.brightnesses.array_3:chord_26', '\\\\xtomo::top.brightnesses.array_1:chord_27 & \\\\xtomo::top.brightnesses.array_3:chord_27', '\\\\xtomo::top.brightnesses.array_1:chord_28 & \\\\xtomo::top.brightnesses.array_3:chord_28', '\\\\xtomo::top.brightnesses.array_1:chord_29 & \\\\xtomo::top.brightnesses.array_3:chord_29', '\\\\xtomo::top.brightnesses.array_1:chord_30 & \\\\xtomo::top.brightnesses.array_3:chord_30', '\\\\xtomo::top.brightnesses.array_1:chord_31 & \\\\xtomo::top.brightnesses.array_3:chord_31', '\\\\xtomo::top.brightnesses.array_1:chord_32 & \\\\xtomo::top.brightnesses.array_3:chord_32', '\\\\xtomo::top.brightnesses.array_1:chord_33 & \\\\xtomo::top.brightnesses.array_3:chord_33', '\\\\xtomo::top.brightnesses.array_1:chord_34 & \\\\xtomo::top.brightnesses.array_3:chord_34', '\\\\xtomo::top.brightnesses.array_1:chord_35 & \\\\xtomo::top.brightnesses.array_3:chord_35', '\\\\xtomo::top.brightnesses.array_1:chord_36 & \\\\xtomo::top.brightnesses.array_3:chord_36', '\\\\xtomo::top.brightnesses.array_1:chord_37 & \\\\xtomo::top.brightnesses.array_3:chord_37', '\\\\xtomo::top.brightnesses.array_1:chord_38 & \\\\xtomo::top.brightnesses.array_3:chord_38', '\\\\MAGNETICS::TOP.ACTIVE_MHD.SIGNALS:BP01_ABK','\\\\MAGNETICS::TOP.ACTIVE_MHD.SIGNALS:BP02_ABK','\\\\MAGNETICS::TOP.ACTIVE_MHD.SIGNALS:BP02_GHK','\\\\MAGNETICS::TOP.ACTIVE_MHD.SIGNALS:BP03_ABK','\\\\MAGNETICS::TOP.ACTIVE_MHD.SIGNALS:BP04_ABK','\\\\MAGNETICS::TOP.ACTIVE_MHD.SIGNALS:BP04_GHK','\\\\MAGNETICS::TOP.ACTIVE_MHD.SIGNALS:BP05_ABK','\\\\MAGNETICS::TOP.ACTIVE_MHD.SIGNALS:BP05_GHK','\\\\MAGNETICS::TOP.ACTIVE_MHD.SIGNALS:BP06_ABK','\\\\MAGNETICS::TOP.ACTIVE_MHD.SIGNALS:BP06_GHK','\\\\MAGNETICS::TOP.ACTIVE_MHD.SIGNALS:BP07_ABK','\\\\MAGNETICS::TOP.ACTIVE_MHD.SIGNALS:BP07_GHK','\\\\MAGNETICS::TOP.ACTIVE_MHD.SIGNALS:BP08_GHK','\\\\MAGNETICS::TOP.ACTIVE_MHD.SIGNALS:BP10_GHK','\\\\MAGNETICS::TOP.ACTIVE_MHD.SIGNALS:BP11_GHK','\\\\MAGNETICS::TOP.ACTIVE_MHD.SIGNALS:BP12_GHK','\\\\MAGNETICS::TOP.ACTIVE_MHD.SIGNALS:BP13_GHK','\\\\MAGNETICS::TOP.ACTIVE_MHD.SIGNALS:BP14_GHK','\\\\MAGNETICS::TOP.ACTIVE_MHD.SIGNALS:BP08_ABK','\\\\MAGNETICS::TOP.ACTIVE_MHD.SIGNALS:BP09_ABK','\\\\MAGNETICS::TOP.ACTIVE_MHD.SIGNALS:BP1T_GHK','\\\\MAGNETICS::TOP.ACTIVE_MHD.SIGNALS:BP20_ABK','\\\\MAGNETICS::TOP.ACTIVE_MHD.SIGNALS:BP2T_GHK', '\\\\MAGNETICS::TOP.ACTIVE_MHD.SIGNALS:BP3T_GHK', '\\\\MAGNETICS::TOP.ACTIVE_MHD.SIGNALS:BP4T_ABK','\\\\MAGNETICS::TOP.ACTIVE_MHD.SIGNALS:BP5T_ABK', '\\\\MAGNETICS::TOP.ACTIVE_MHD.SIGNALS:BP6T_ABK','\\\\MAGNETICS::TOP.ACTIVE_MHD.SIGNALS:BP_AB_TOP', '\\\\MAGNETICS::TOP.ACTIVE_MHD.SIGNALS:BP_BC_BOT', '\\\\MAGNETICS::TOP.ACTIVE_MHD.SIGNALS:BP_BC_TOP', '\\\\MAGNETICS::TOP.ACTIVE_MHD.SIGNALS:BP_EF_BOT','Greenwald_fraction','n1_norm','\\\\efit_aeqdsk:q95','ip_err_frac',  'radiated_frac', 'rotating_mode' , '\\\\MAGNETICS::TOP.ACTIVE_MHD.SIGNALS:BP_KA_TOP','\\\\MAGNETICS::TOP.ACTIVE_MHD.SIGNALS:BP_EF_TOP', '\\\\MAGNETICS::TOP.ACTIVE_MHD.SIGNALS:BP_KA_BOT','\\\\efit_aeqdsk:aminor', '\\\\efit_aeqdsk:betan', '\\\\efit_aeqdsk:kappa', '\\\\efit_aeqdsk:li', '\\\\efit_aeqdsk:wplasm']\n",
    "shot_ids = [i for i in test_x_cmod_df['Shot_list'].values]\n",
    "\n",
    "c = \"\\\\\"\n",
    "for i in range(22):\n",
    "    test_x_cmod_df[f'{c}AXA.chord_{i+1} & {c}AXJ.chord_{i+1}'] = test_x_cmod_df[f'{c}AXA.chord_{i+1}'] / test_x_cmod_df[f'{c}AXJ.chord_{i+1}']\n",
    "    train_x_cmod_df[f'{c}AXA.chord_{i+1} & {c}AXJ.chord_{i+1}'] = train_x_cmod_df[f'{c}AXA.chord_{i+1}'] / train_x_cmod_df[f'{c}AXJ.chord_{i+1}']\n",
    "\n",
    "for i in range(1, 39):\n",
    "    if i < 10:\n",
    "        test_x_cmod_df[f\"{c}xtomo::top.brightnesses.array_1:chord_0{i} & {c}xtomo::top.brightnesses.array_3:chord_0{i}\"] =  test_x_cmod_df[f'{c}xtomo::top.brightnesses.array_1:chord_0{i}'] / test_x_cmod_df[f'{c}xtomo::top.brightnesses.array_3:chord_0{i}']\n",
    "        train_x_cmod_df[f'{c}xtomo::top.brightnesses.array_1:chord_0{i} & {c}xtomo::top.brightnesses.array_3:chord_0{i}'] = train_x_cmod_df[f'{c}xtomo::top.brightnesses.array_1:chord_0{i}'] / train_x_cmod_df[f'{c}xtomo::top.brightnesses.array_3:chord_0{i}']\n",
    "    else:\n",
    "        test_x_cmod_df[f'{c}xtomo::top.brightnesses.array_1:chord_{i} & {c}xtomo::top.brightnesses.array_3:chord_{i}'] = test_x_cmod_df[f'{c}xtomo::top.brightnesses.array_1:chord_{i}'] / test_x_cmod_df[f'{c}xtomo::top.brightnesses.array_3:chord_{i}']\n",
    "        train_x_cmod_df[f'{c}xtomo::top.brightnesses.array_1:chord_{i} & {c}xtomo::top.brightnesses.array_3:chord_{i}'] = train_x_cmod_df[f'{c}xtomo::top.brightnesses.array_1:chord_{i}'] / train_x_cmod_df[f'{c}xtomo::top.brightnesses.array_3:chord_{i}']\n",
    "\n",
    "train_x_cmod_df[[f'{c}MAGNETICS::TOP.ACTIVE_MHD.SIGNALS:BP01_ABK', f'{c}MAGNETICS::TOP.ACTIVE_MHD.SIGNALS:BP02_ABK', f'{c}MAGNETICS::TOP.ACTIVE_MHD.SIGNALS:BP03_ABK', f'{c}MAGNETICS::TOP.ACTIVE_MHD.SIGNALS:BP04_ABK', f'{c}MAGNETICS::TOP.ACTIVE_MHD.SIGNALS:BP05_ABK', f'{c}MAGNETICS::TOP.ACTIVE_MHD.SIGNALS:BP06_ABK', f'{c}MAGNETICS::TOP.ACTIVE_MHD.SIGNALS:BP09_ABK']] = np.NaN\n",
    "\n",
    "\n",
    "\n",
    "train_x_cmod_df = train_x_cmod_df[cmod_feats].rename(columns = dict(zip(cmod_feats , Diagnostics)) )\n",
    "\n",
    "test_x_cmod_df = test_x_cmod_df[cmod_feats].rename(columns = dict(zip(cmod_feats , Diagnostics)) )\n",
    "\n",
    "train_y_cmod_df  = train_y_cmod_df.rename(columns={0:'Is_disrupt'})\n",
    "train_y_cmod_df = train_y_cmod_df.reset_index().drop('index' , axis=1)\n",
    "\n",
    "train_df = train_x_cmod_df\n",
    "train_df['Is_disrupt'] = train_y_cmod_df['Is_disrupt'].astype(int)\n",
    "\n",
    "test_df = test_x_cmod_df\n",
    "test_df['Shot_list'] = shot_ids \n"
   ]
  },
  {
   "cell_type": "code",
   "execution_count": 29,
   "id": "14fa4b65-7128-4074-a331-1094e3da8631",
   "metadata": {
    "tags": []
   },
   "outputs": [
    {
     "data": {
      "text/plain": [
       "((20, 113), (413, 113))"
      ]
     },
     "execution_count": 29,
     "metadata": {},
     "output_type": "execute_result"
    }
   ],
   "source": [
    "train_df.shape, test_df.shape"
   ]
  },
  {
   "cell_type": "code",
   "execution_count": 37,
   "id": "94847e62-3e91-4197-a70a-e28c23b44a71",
   "metadata": {
    "tags": []
   },
   "outputs": [
    {
     "name": "stdout",
     "output_type": "stream",
     "text": [
      "['plasma_current', 'toroidal_magnetic_field', 'horizontal_displacement', 'vertical_displacement', 'line_integral_density(center_chord)', 'c3_radiation', 'loop_voltage', 'axuv_01', 'axuv_02', 'axuv_03', 'axuv_04', 'axuv_05', 'axuv_06', 'axuv_07', 'axuv_08', 'axuv_09', 'axuv_10', 'axuv_11', 'axuv_12', 'axuv_13', 'axuv_14', 'axuv_15', 'axuv_16', 'axuv_17', 'axuv_18', 'axuv_19', 'axuv_20', 'axuv_21', 'axuv_22', 'soft_x_ray_01', 'soft_x_ray_02', 'soft_x_ray_03', 'soft_x_ray_04', 'soft_x_ray_05', 'soft_x_ray_06', 'soft_x_ray_07', 'soft_x_ray_08', 'soft_x_ray_09', 'soft_x_ray_10', 'soft_x_ray_11', 'soft_x_ray_12', 'soft_x_ray_13', 'soft_x_ray_14', 'soft_x_ray_15', 'soft_x_ray_16', 'soft_x_ray_17', 'soft_x_ray_18', 'soft_x_ray_19', 'soft_x_ray_20', 'soft_x_ray_21', 'soft_x_ray_22', 'soft_x_ray_23', 'soft_x_ray_24', 'soft_x_ray_25', 'soft_x_ray_26', 'soft_x_ray_27', 'soft_x_ray_28', 'soft_x_ray_29', 'soft_x_ray_30', 'soft_x_ray_31', 'soft_x_ray_32', 'soft_x_ray_33', 'soft_x_ray_34', 'soft_x_ray_35', 'soft_x_ray_36', 'soft_x_ray_37', 'soft_x_ray_38', 'poloidal_mirnov_probes_01', 'poloidal_mirnov_probes_02', 'poloidal_mirnov_probes_03', 'poloidal_mirnov_probes_04', 'poloidal_mirnov_probes_05', 'poloidal_mirnov_probes_06', 'poloidal_mirnov_probes_07', 'poloidal_mirnov_probes_08', 'poloidal_mirnov_probes_09', 'poloidal_mirnov_probes_10', 'poloidal_mirnov_probes_11', 'poloidal_mirnov_probes_12', 'poloidal_mirnov_probes_13', 'poloidal_mirnov_probes_14', 'poloidal_mirnov_probes_15', 'poloidal_mirnov_probes_16', 'poloidal_mirnov_probes_17', 'poloidal_mirnov_probes_18', 'toroidal_mirnov_probes_01', 'toroidal_mirnov_probes_02', 'toroidal_mirnov_probes_03', 'toroidal_mirnov_probes_04', 'toroidal_mirnov_probes_05', 'toroidal_mirnov_probes_06', 'toroidal_mirnov_probes_07', 'toroidal_mirnov_probes_09', 'toroidal_mirnov_probes_10', 'density_measurement1', 'density_measurement2', 'density_measurement3', 'density_measurement4', 'greenwald_fraction', 'lm_proxy', 'q95_proxy', 'ip_error_fraction', 'radiation_fraction', 'rotating_mode_proxy', 'unknown_bp_ka_top', 'unknown_bp_ef_top', 'unknown_bp_ka_bot', 'unknown_aminor', 'unknown_betan', 'unknown_kappa', 'unknown_li', 'unknown_wplasm', 'Shot_list']\n",
      "Number of columns after processing =  113\n",
      "number of columns before processing =  198\n"
     ]
    }
   ],
   "source": [
    "col_feats_a = test_df.columns.tolist()\n",
    "print(col_feats_a)\n",
    "print('Number of columns after processing = ', len(col_feats_a))\n",
    "#print(col_feat_b)\n",
    "print('number of columns before processing = ', len(col_feat_b))"
   ]
  },
  {
   "cell_type": "code",
   "execution_count": 41,
   "id": "38973b6c-a64c-45ab-ab6d-452f71bc89da",
   "metadata": {
    "tags": []
   },
   "outputs": [
    {
     "name": "stderr",
     "output_type": "stream",
     "text": [
      "/Users/lightvij/anaconda3/lib/python3.11/site-packages/pandas/core/internals/blocks.py:2538: RuntimeWarning: invalid value encountered in cast\n",
      "  values = values.astype(str)\n"
     ]
    }
   ],
   "source": [
    "train_df.to_csv('../tod/processed_data/train_cmod.csv' , index=False) \n",
    "test_df.to_csv('../tod/processed_data/test_cmod.csv' , index=True)   "
   ]
  },
  {
   "cell_type": "markdown",
   "id": "1673182e-dde6-4477-bf5b-2fe6833b1d54",
   "metadata": {
    "tags": []
   },
   "source": [
    "<div style=\"font-size: 20px;\">Renaming and Processing J-TEXT files</div>"
   ]
  },
  {
   "cell_type": "code",
   "execution_count": 42,
   "id": "3da00065-1ff0-41c1-b6ad-ae21b64e229c",
   "metadata": {},
   "outputs": [],
   "source": [
    "Diagnostics = \"plasma current,toroidal magnetic field,horizontal displacement,vertical displacement,line integral density(center chord),C3 radiation,loop voltage,AXUV_01,AXUV_02,AXUV_03,AXUV_04,AXUV_05,AXUV_06,AXUV_07,AXUV_08,AXUV_09,AXUV_10,AXUV_11,AXUV_12,AXUV_13,AXUV_14,AXUV_15,AXUV_16,AXUV_17,AXUV_18,AXUV_19,AXUV_20,AXUV_21,AXUV_22,soft-X-ray_01,soft-X-ray_02,soft-X-ray_03,soft-X-ray_04,soft-X-ray_05,soft-X-ray_06,soft-X-ray_07,soft-X-ray_08,soft-X-ray_09,soft-X-ray_10,soft-X-ray_11,soft-X-ray_12,soft-X-ray_13,soft-X-ray_14,soft-X-ray_15,soft-X-ray_16,soft-X-ray_17,soft-X-ray_18,soft-X-ray_19,soft-X-ray_20,soft-X-ray_21,soft-X-ray_22,soft-X-ray_23,soft-X-ray_24,soft-X-ray_25,soft-X-ray_26,soft-X-ray_27,soft-X-ray_28,soft-X-ray_29,soft-X-ray_30,soft-X-ray_31,soft-X-ray_32,soft-X-ray_33,soft-X-ray_34,soft-X-ray_35,soft-X-ray_36,soft-X-ray_37,soft-X-ray_38,poloidal Mirnov probes_01,poloidal Mirnov probes_02,poloidal Mirnov probes_03,poloidal Mirnov probes_04,poloidal Mirnov probes_05,poloidal Mirnov probes_06,poloidal Mirnov probes_07,poloidal Mirnov probes_08,poloidal Mirnov probes_09,poloidal Mirnov probes_10,poloidal Mirnov probes_11,poloidal Mirnov probes_12,toroidal Mirnov probes_01,toroidal Mirnov probes_02,Greenwald fraction,LM proxy,q95 proxy,IP error fraction,Radiation fraction,Rotating mode proxy\".replace(' ','_').replace('-', '_').lower().split(',')\n",
    "jtext_feats = \"ip,bt,dx,dy,polaris_den_v09,vs_c3_aa018,vl,AXUV_CA_02,AXUV_CA_06,AXUV_CA_10,AXUV_CA_14,AXUV_CB_18,AXUV_CB_22,AXUV_CB_26,AXUV_CB_30,AXUV_CE_66,AXUV_CE_70,AXUV_CE_74,AXUV_CE_78,AXUV_CF_82,AXUV_CF_86,AXUV_CF_90,AXUV_CF_94,AXUV_CF_95,AXUV_CF_96,AXUV_CF_97,AXUV_CF_98,AXUV_CF_99,AXUV_CF_100,sxr_cb_020,sxr_cb_021,sxr_cb_022,sxr_cb_023,sxr_cb_024,sxr_cb_025,sxr_cb_026,sxr_cb_027,sxr_cb_028,sxr_cb_032,sxr_cb_036,sxr_cb_037,sxr_cb_038,sxr_cb_039,sxr_cb_040,sxr_cb_041,sxr_cb_042,sxr_cb_043,sxr_cb_044,sxr_cc_036,sxr_cc_037,sxr_cc_038,sxr_cc_039,sxr_cc_040,sxr_cc_041,sxr_cc_042,sxr_cc_043,sxr_cc_044,sxr_cc_052,sxr_cc_053,sxr_cc_054,sxr_cc_055,sxr_cc_056,sxr_cc_057,sxr_cc_058,sxr_cc_059,sxr_cc_060,sxr_cc_061,MA_POL_CA01T,MA_POL_CA03T,MA_POL_CA05T,MA_POL_CA07T,MA_POL_CA09T,MA_POL_CA11T,MA_POL_CA13T,MA_POL_CA15T,MA_POL_CA17T,MA_POL_CA19T,MA_POL_CA21T,MA_POL_CA23T,MA_TOR1_R01,MA_TOR1_R02,ne_nG,n = 1 amplitude,qa_proxy,ip_error,radiation_proxy,rotating_mode_proxy\".split(',')\n",
    "\n",
    "\n",
    "train_x_jtext_df[['AXUV_CF_95', 'AXUV_CF_96', 'AXUV_CF_97', 'AXUV_CF_98', 'AXUV_CF_99', 'AXUV_CF_100', 'sxr_cc_061', 'n = 1 amplitude']]=0\n",
    "train_x_jtext_df = train_x_jtext_df[jtext_feats].rename(columns = dict(zip(jtext_feats , Diagnostics)) )\n",
    "\n",
    "train_y_jtext_df  = train_y_jtext_df.rename(columns={0:'Is_disrupt'})\n",
    "train_y_jtext_df = train_y_jtext_df.reset_index().drop('index' , axis=1)\n",
    "\n",
    "train_df_ = train_x_jtext_df\n",
    "train_df_['Is_disrupt'] = train_y_jtext_df['Is_disrupt'].astype(int)\n",
    "\n",
    "train_df_.to_csv('../tod/processed_data/train_jtext.csv' , index=False)  "
   ]
  },
  {
   "cell_type": "markdown",
   "id": "d0229c76-8480-4dae-bc2f-5de1964812eb",
   "metadata": {},
   "source": [
    "<div style=\"font-size: 20px;\">Renaming and Processing HL-2A files</div>"
   ]
  },
  {
   "cell_type": "code",
   "execution_count": 43,
   "id": "7bd226fb-663f-4178-9adb-7422e09b5264",
   "metadata": {
    "tags": []
   },
   "outputs": [
    {
     "name": "stderr",
     "output_type": "stream",
     "text": [
      "/Users/lightvij/anaconda3/lib/python3.11/site-packages/pandas/core/internals/blocks.py:2538: RuntimeWarning: invalid value encountered in cast\n",
      "  values = values.astype(str)\n"
     ]
    }
   ],
   "source": [
    "Diagnostics = \"plasma current,toroidal magnetic field,horizontal displacement,vertical displacement,line integral density(center chord),C3 radiation,loop voltage,AXUV_01,AXUV_02,AXUV_03,AXUV_04,AXUV_05,AXUV_06,AXUV_07,AXUV_08,AXUV_09,AXUV_10,AXUV_11,AXUV_12,AXUV_13,AXUV_14,AXUV_15,AXUV_16,soft-X-ray_01,soft-X-ray_02,soft-X-ray_03,soft-X-ray_04,soft-X-ray_05,soft-X-ray_06,soft-X-ray_07,soft-X-ray_08,soft-X-ray_09,soft-X-ray_10,soft-X-ray_11,soft-X-ray_12,soft-X-ray_13,soft-X-ray_14,soft-X-ray_15,soft-X-ray_16,soft-X-ray_17,soft-X-ray_18,soft-X-ray_19,soft-X-ray_20,poloidal Mirnov probes_01,poloidal Mirnov probes_02,poloidal Mirnov probes_03,poloidal Mirnov probes_04,poloidal Mirnov probes_05,poloidal Mirnov probes_06,poloidal Mirnov probes_07,poloidal Mirnov probes_08,poloidal Mirnov probes_09,poloidal Mirnov probes_10,poloidal Mirnov probes_11,poloidal Mirnov probes_12,poloidal Mirnov probes_13,poloidal Mirnov probes_14,poloidal Mirnov probes_15,poloidal Mirnov probes_16,poloidal Mirnov probes_17,poloidal Mirnov probes_18,toroidal Mirnov probes_01,toroidal Mirnov probes_02,toroidal Mirnov probes_03,toroidal Mirnov probes_04,toroidal Mirnov probes_05,toroidal Mirnov probes_06,toroidal Mirnov probes_07,toroidal Mirnov probes_09,toroidal Mirnov probes_10,Density_Measurement1,Density_Measurement2,Density_Measurement3,Density_Measurement4,Greenwald fraction,LM proxy,q95 proxy,IP error fraction,Radiation fraction,Rotating mode proxy,unknown_LFBBOH,unknown_PUFFCTRL,unknown_LFBBV,unknown_LFBIRF,unknown_LFBMP1,unknown_LFBMP2\".replace(' ','_').replace('-', '_').lower().split(',')\n",
    "hl_2a_feats = \"CCO-LFB:LFEX-IP,CCO-LFB:LFBBT,CCO-LFB:LFDH,CCO-LFB:LFDV,CCO-DF:DENSITY1,CCO-DF:GASFBOUT,DS-EMD-ROG:VL-FILTER,DS-BM-AB:BOLD01,DS-BM-AB:BOLD02,DS-BM-AB:BOLD03,DS-BM-AB:BOLD04,DS-BM-AB:BOLD05,DS-BM-AB:BOLD06,DS-BM-AB:BOLD07,DS-BM-AB:BOLD08,DS-BM-AB:BOLD09,DS-BM-AB:BOLD10,DS-BM-AB:BOLD11,DS-BM-AB:BOLD12,DS-BM-AB:BOLD13,DS-BM-AB:BOLD14,DS-BM-AB:BOLD15,DS-BM-AB:BOLD16,DS-SXR-SXA:SX01,DS-SXR-SXA:SX02,DS-SXR-SXA:SX03,DS-SXR-SXA:SX04,DS-SXR-SXA:SX05,DS-SXR-SXA:SX06,DS-SXR-SXA:SX07,DS-SXR-SXA:SX08,DS-SXR-SXA:SX09,DS-SXR-SXA:SX10,DS-SXR-SXA:SX11,DS-SXR-SXA:SX12,DS-SXR-SXA:SX13,DS-SXR-SXA:SX14,DS-SXR-SXA:SX15,DS-SXR-SXA:SX16,DS-SXR-SXA:SX17,DS-SXR-SXA:SX18,DS-SXR-SXA:SX19,DS-SXR-SXA:SX20,DS-EMD-MP:MPOL-01,DS-EMD-MP:MPOL-02,DS-EMD-MP:MPOL-03,DS-EMD-MP:MPOL-04,DS-EMD-MP:MPOL-05,DS-EMD-MP:MPOL-06,DS-EMD-MP:MPOL-07,DS-EMD-MP:MPOL-08,DS-EMD-MP:MPOL-09,DS-EMD-MP:MPOL-10,DS-EMD-MP:MPOL-11,DS-EMD-MP:MPOL-12,DS-EMD-MP:MPOL-13,DS-EMD-MP:MPOL-14,DS-EMD-MP:MPOL-15,DS-EMD-MP:MPOL-16,DS-EMD-MP:MPOL-17,DS-EMD-MP:MPOL-18,DS-EMD-MP:NPOL-01,DS-EMD-MP:NPOL-02,DS-EMD-MP:NPOL-03,DS-EMD-MP:NPOL-04,DS-EMD-MP:NPOL-05,DS-EMD-MP:NPOL-06,DS-EMD-MP:NPOL-07,DS-EMD-MP:NPOL-09,DS-EMD-MP:NPOL-10,DS-FIR:FIR-SPH1A,DS-FIR:FIR-SPH2A,DS-FIR:FIR-SPH3A,DS-FIR:FIR-SPH4A,GW_Ratio,n1_norm,EFIT_q95,Ip_Error,RadiatedFraction,RotatingModeProxy,CCO-LFB:LFBBOH,DS-TMP:PUFFCTRL,CCO-LFB:LFBBV,CCO-LFB:LFBIRF,CCO-LFB:LFBMP1,CCO-LFB:LFBMP2\".split(\",\")\n",
    "\n",
    "train_x_hl_2a_df['n1_norm'] = 0\n",
    "train_x_hl_2a_df = train_x_hl_2a_df[hl_2a_feats].rename(columns = dict(zip(hl_2a_feats , Diagnostics)) )\n",
    "\n",
    "train_y_hl_2a_df  = train_y_hl_2a_df.rename(columns={0:'Is_disrupt'})\n",
    "train_y_hl_2a_df = train_y_hl_2a_df.reset_index().drop('index' , axis=1)\n",
    "\n",
    "train_df_ = train_x_hl_2a_df\n",
    "train_df_['Is_disrupt'] = train_y_hl_2a_df['Is_disrupt'].astype(int)\n",
    "\n",
    "train_df_.to_csv('../tod/processed_data/train_hl2a.csv' , index=False)  #2404 observations"
   ]
  },
  {
   "cell_type": "markdown",
   "id": "3ac102e8-b23f-407b-8447-83220a7e6dec",
   "metadata": {},
   "source": [
    "<div style=\"font-size: 20px;\">Further Processing</div>"
   ]
  },
  {
   "cell_type": "code",
   "execution_count": 44,
   "id": "e6621498-57cd-48bb-97d7-7656431cd72d",
   "metadata": {
    "tags": []
   },
   "outputs": [],
   "source": [
    "\n",
    "import pandas as pd\n",
    "train_cmod_df = pd.read_csv('../tod/processed_data/train_cmod.csv')\n",
    "train_jtext_df = pd.read_csv('../tod/processed_data/train_jtext.csv')\n",
    "train_hl_2a_df = pd.read_csv('../tod/processed_data/train_hl2a.csv')\n",
    "\n",
    "test_cmod_df = pd.read_csv('../tod/processed_data/test_cmod.csv')\n"
   ]
  },
  {
   "cell_type": "code",
   "execution_count": 45,
   "id": "0a37d933-24fe-443b-9721-420555d245a2",
   "metadata": {
    "tags": []
   },
   "outputs": [],
   "source": [
    "train_df = pd.concat([train_cmod_df , train_jtext_df , train_hl_2a_df])"
   ]
  },
  {
   "cell_type": "code",
   "execution_count": 46,
   "id": "2b207ea3-225e-4b6b-99aa-2da8ec410514",
   "metadata": {
    "tags": []
   },
   "outputs": [
    {
     "name": "stderr",
     "output_type": "stream",
     "text": [
      "/Users/lightvij/anaconda3/lib/python3.11/site-packages/pandas/core/internals/blocks.py:2538: RuntimeWarning: invalid value encountered in cast\n",
      "  values = values.astype(str)\n"
     ]
    }
   ],
   "source": [
    "train_df.to_excel('../tod/processed_data/train.xlsx', index=False)\n",
    "train_df.to_csv('../tod/processed_data/train.xlsx', index=False)\n"
   ]
  },
  {
   "cell_type": "code",
   "execution_count": 47,
   "id": "afffe9ac-a550-480d-bcd6-4a8f8bd8813b",
   "metadata": {
    "tags": []
   },
   "outputs": [
    {
     "data": {
      "text/plain": [
       "((3131, 119), (413, 114))"
      ]
     },
     "execution_count": 47,
     "metadata": {},
     "output_type": "execute_result"
    }
   ],
   "source": [
    "train_df.shape, test_cmod_df.shape"
   ]
  },
  {
   "cell_type": "code",
   "execution_count": 48,
   "id": "17b0a2b1-5c73-4408-95b3-c17634f58684",
   "metadata": {
    "tags": []
   },
   "outputs": [],
   "source": [
    "train_df['programmed_plasma_current'] = train_df['plasma_current'] - train_df['ip_error_fraction']\n",
    "test_cmod_df['programmed_plasma_current'] = test_cmod_df['plasma_current'] - test_cmod_df['ip_error_fraction']"
   ]
  },
  {
   "cell_type": "code",
   "execution_count": 53,
   "id": "56bd2aff-9910-4af7-9332-78b73de1e62a",
   "metadata": {
    "tags": []
   },
   "outputs": [
    {
     "data": {
      "text/html": [
       "<div>\n",
       "<style scoped>\n",
       "    .dataframe tbody tr th:only-of-type {\n",
       "        vertical-align: middle;\n",
       "    }\n",
       "\n",
       "    .dataframe tbody tr th {\n",
       "        vertical-align: top;\n",
       "    }\n",
       "\n",
       "    .dataframe thead th {\n",
       "        text-align: right;\n",
       "    }\n",
       "</style>\n",
       "<table border=\"1\" class=\"dataframe\">\n",
       "  <thead>\n",
       "    <tr style=\"text-align: right;\">\n",
       "      <th></th>\n",
       "      <th>plasma_current</th>\n",
       "      <th>toroidal_magnetic_field</th>\n",
       "      <th>horizontal_displacement</th>\n",
       "      <th>vertical_displacement</th>\n",
       "      <th>line_integral_density(center_chord)</th>\n",
       "      <th>c3_radiation</th>\n",
       "      <th>loop_voltage</th>\n",
       "      <th>axuv_01</th>\n",
       "      <th>axuv_02</th>\n",
       "      <th>axuv_03</th>\n",
       "      <th>...</th>\n",
       "      <th>unknown_li</th>\n",
       "      <th>unknown_wplasm</th>\n",
       "      <th>Is_disrupt</th>\n",
       "      <th>unknown_lfbboh</th>\n",
       "      <th>unknown_puffctrl</th>\n",
       "      <th>unknown_lfbbv</th>\n",
       "      <th>unknown_lfbirf</th>\n",
       "      <th>unknown_lfbmp1</th>\n",
       "      <th>unknown_lfbmp2</th>\n",
       "      <th>programmed_plasma_current</th>\n",
       "    </tr>\n",
       "  </thead>\n",
       "  <tbody>\n",
       "    <tr>\n",
       "      <th>0</th>\n",
       "      <td>2.107438e+15</td>\n",
       "      <td>302640.34</td>\n",
       "      <td>5.327099e+06</td>\n",
       "      <td>1073.739047</td>\n",
       "      <td>7.390368e+42</td>\n",
       "      <td>312965660.0</td>\n",
       "      <td>5561.634209</td>\n",
       "      <td>inf</td>\n",
       "      <td>inf</td>\n",
       "      <td>0.004912</td>\n",
       "      <td>...</td>\n",
       "      <td>2267.725996</td>\n",
       "      <td>2.611100e+12</td>\n",
       "      <td>1</td>\n",
       "      <td>NaN</td>\n",
       "      <td>NaN</td>\n",
       "      <td>NaN</td>\n",
       "      <td>NaN</td>\n",
       "      <td>NaN</td>\n",
       "      <td>NaN</td>\n",
       "      <td>2.107438e+15</td>\n",
       "    </tr>\n",
       "    <tr>\n",
       "      <th>1</th>\n",
       "      <td>4.095709e+14</td>\n",
       "      <td>280047.78</td>\n",
       "      <td>4.023334e+06</td>\n",
       "      <td>31.727082</td>\n",
       "      <td>1.013297e+42</td>\n",
       "      <td>33170362.0</td>\n",
       "      <td>2929.295372</td>\n",
       "      <td>inf</td>\n",
       "      <td>inf</td>\n",
       "      <td>0.000953</td>\n",
       "      <td>...</td>\n",
       "      <td>2329.930054</td>\n",
       "      <td>8.617792e+10</td>\n",
       "      <td>1</td>\n",
       "      <td>NaN</td>\n",
       "      <td>NaN</td>\n",
       "      <td>NaN</td>\n",
       "      <td>NaN</td>\n",
       "      <td>NaN</td>\n",
       "      <td>NaN</td>\n",
       "      <td>4.095709e+14</td>\n",
       "    </tr>\n",
       "    <tr>\n",
       "      <th>2</th>\n",
       "      <td>8.966099e+14</td>\n",
       "      <td>290311.06</td>\n",
       "      <td>4.637451e+06</td>\n",
       "      <td>195.638329</td>\n",
       "      <td>4.358243e+42</td>\n",
       "      <td>351733630.0</td>\n",
       "      <td>4056.871891</td>\n",
       "      <td>inf</td>\n",
       "      <td>inf</td>\n",
       "      <td>0.003227</td>\n",
       "      <td>...</td>\n",
       "      <td>2380.996249</td>\n",
       "      <td>3.078669e+11</td>\n",
       "      <td>1</td>\n",
       "      <td>NaN</td>\n",
       "      <td>NaN</td>\n",
       "      <td>NaN</td>\n",
       "      <td>NaN</td>\n",
       "      <td>NaN</td>\n",
       "      <td>NaN</td>\n",
       "      <td>8.966099e+14</td>\n",
       "    </tr>\n",
       "    <tr>\n",
       "      <th>3</th>\n",
       "      <td>1.348079e+15</td>\n",
       "      <td>282419.22</td>\n",
       "      <td>8.514665e+06</td>\n",
       "      <td>1332.202990</td>\n",
       "      <td>2.588666e+43</td>\n",
       "      <td>243026460.0</td>\n",
       "      <td>3399.162007</td>\n",
       "      <td>inf</td>\n",
       "      <td>inf</td>\n",
       "      <td>0.001282</td>\n",
       "      <td>...</td>\n",
       "      <td>4375.244812</td>\n",
       "      <td>6.877778e+12</td>\n",
       "      <td>0</td>\n",
       "      <td>NaN</td>\n",
       "      <td>NaN</td>\n",
       "      <td>NaN</td>\n",
       "      <td>NaN</td>\n",
       "      <td>NaN</td>\n",
       "      <td>NaN</td>\n",
       "      <td>1.348079e+15</td>\n",
       "    </tr>\n",
       "    <tr>\n",
       "      <th>4</th>\n",
       "      <td>1.338732e+15</td>\n",
       "      <td>306852.70</td>\n",
       "      <td>8.500387e+06</td>\n",
       "      <td>932.798940</td>\n",
       "      <td>2.946724e+42</td>\n",
       "      <td>48145970.0</td>\n",
       "      <td>3960.202012</td>\n",
       "      <td>inf</td>\n",
       "      <td>inf</td>\n",
       "      <td>0.000622</td>\n",
       "      <td>...</td>\n",
       "      <td>5352.263695</td>\n",
       "      <td>5.081751e+11</td>\n",
       "      <td>0</td>\n",
       "      <td>NaN</td>\n",
       "      <td>NaN</td>\n",
       "      <td>NaN</td>\n",
       "      <td>NaN</td>\n",
       "      <td>NaN</td>\n",
       "      <td>NaN</td>\n",
       "      <td>1.338732e+15</td>\n",
       "    </tr>\n",
       "  </tbody>\n",
       "</table>\n",
       "<p>5 rows × 120 columns</p>\n",
       "</div>"
      ],
      "text/plain": [
       "   plasma_current  toroidal_magnetic_field  horizontal_displacement  \\\n",
       "0    2.107438e+15                302640.34             5.327099e+06   \n",
       "1    4.095709e+14                280047.78             4.023334e+06   \n",
       "2    8.966099e+14                290311.06             4.637451e+06   \n",
       "3    1.348079e+15                282419.22             8.514665e+06   \n",
       "4    1.338732e+15                306852.70             8.500387e+06   \n",
       "\n",
       "   vertical_displacement  line_integral_density(center_chord)  c3_radiation  \\\n",
       "0            1073.739047                         7.390368e+42   312965660.0   \n",
       "1              31.727082                         1.013297e+42    33170362.0   \n",
       "2             195.638329                         4.358243e+42   351733630.0   \n",
       "3            1332.202990                         2.588666e+43   243026460.0   \n",
       "4             932.798940                         2.946724e+42    48145970.0   \n",
       "\n",
       "   loop_voltage  axuv_01  axuv_02   axuv_03  ...   unknown_li  unknown_wplasm  \\\n",
       "0   5561.634209      inf      inf  0.004912  ...  2267.725996    2.611100e+12   \n",
       "1   2929.295372      inf      inf  0.000953  ...  2329.930054    8.617792e+10   \n",
       "2   4056.871891      inf      inf  0.003227  ...  2380.996249    3.078669e+11   \n",
       "3   3399.162007      inf      inf  0.001282  ...  4375.244812    6.877778e+12   \n",
       "4   3960.202012      inf      inf  0.000622  ...  5352.263695    5.081751e+11   \n",
       "\n",
       "   Is_disrupt  unknown_lfbboh  unknown_puffctrl  unknown_lfbbv  \\\n",
       "0           1             NaN               NaN            NaN   \n",
       "1           1             NaN               NaN            NaN   \n",
       "2           1             NaN               NaN            NaN   \n",
       "3           0             NaN               NaN            NaN   \n",
       "4           0             NaN               NaN            NaN   \n",
       "\n",
       "   unknown_lfbirf  unknown_lfbmp1  unknown_lfbmp2  programmed_plasma_current  \n",
       "0             NaN             NaN             NaN               2.107438e+15  \n",
       "1             NaN             NaN             NaN               4.095709e+14  \n",
       "2             NaN             NaN             NaN               8.966099e+14  \n",
       "3             NaN             NaN             NaN               1.348079e+15  \n",
       "4             NaN             NaN             NaN               1.338732e+15  \n",
       "\n",
       "[5 rows x 120 columns]"
      ]
     },
     "execution_count": 53,
     "metadata": {},
     "output_type": "execute_result"
    }
   ],
   "source": [
    "train_df.head(5)"
   ]
  },
  {
   "cell_type": "code",
   "execution_count": 50,
   "id": "c456c2f9-d7b8-4d55-b916-a68cdabea3c8",
   "metadata": {
    "tags": []
   },
   "outputs": [
    {
     "name": "stdout",
     "output_type": "stream",
     "text": [
      "Column names: ['Unnamed: 0', 'plasma_current', 'toroidal_magnetic_field', 'horizontal_displacement', 'vertical_displacement', 'line_integral_density(center_chord)', 'c3_radiation', 'loop_voltage', 'axuv_01', 'axuv_02', 'axuv_03', 'axuv_04', 'axuv_05', 'axuv_06', 'axuv_07', 'axuv_08', 'axuv_09', 'axuv_10', 'axuv_11', 'axuv_12', 'axuv_13', 'axuv_14', 'axuv_15', 'axuv_16', 'axuv_17', 'axuv_18', 'axuv_19', 'axuv_20', 'axuv_21', 'axuv_22', 'soft_x_ray_01', 'soft_x_ray_02', 'soft_x_ray_03', 'soft_x_ray_04', 'soft_x_ray_05', 'soft_x_ray_06', 'soft_x_ray_07', 'soft_x_ray_08', 'soft_x_ray_09', 'soft_x_ray_10', 'soft_x_ray_11', 'soft_x_ray_12', 'soft_x_ray_13', 'soft_x_ray_14', 'soft_x_ray_15', 'soft_x_ray_16', 'soft_x_ray_17', 'soft_x_ray_18', 'soft_x_ray_19', 'soft_x_ray_20', 'soft_x_ray_21', 'soft_x_ray_22', 'soft_x_ray_23', 'soft_x_ray_24', 'soft_x_ray_25', 'soft_x_ray_26', 'soft_x_ray_27', 'soft_x_ray_28', 'soft_x_ray_29', 'soft_x_ray_30', 'soft_x_ray_31', 'soft_x_ray_32', 'soft_x_ray_33', 'soft_x_ray_34', 'soft_x_ray_35', 'soft_x_ray_36', 'soft_x_ray_37', 'soft_x_ray_38', 'poloidal_mirnov_probes_01', 'poloidal_mirnov_probes_02', 'poloidal_mirnov_probes_03', 'poloidal_mirnov_probes_04', 'poloidal_mirnov_probes_05', 'poloidal_mirnov_probes_06', 'poloidal_mirnov_probes_07', 'poloidal_mirnov_probes_08', 'poloidal_mirnov_probes_09', 'poloidal_mirnov_probes_10', 'poloidal_mirnov_probes_11', 'poloidal_mirnov_probes_12', 'poloidal_mirnov_probes_13', 'poloidal_mirnov_probes_14', 'poloidal_mirnov_probes_15', 'poloidal_mirnov_probes_16', 'poloidal_mirnov_probes_17', 'poloidal_mirnov_probes_18', 'toroidal_mirnov_probes_01', 'toroidal_mirnov_probes_02', 'toroidal_mirnov_probes_03', 'toroidal_mirnov_probes_04', 'toroidal_mirnov_probes_05', 'toroidal_mirnov_probes_06', 'toroidal_mirnov_probes_07', 'toroidal_mirnov_probes_09', 'toroidal_mirnov_probes_10', 'density_measurement1', 'density_measurement2', 'density_measurement3', 'density_measurement4', 'greenwald_fraction', 'lm_proxy', 'q95_proxy', 'ip_error_fraction', 'radiation_fraction', 'rotating_mode_proxy', 'unknown_bp_ka_top', 'unknown_bp_ef_top', 'unknown_bp_ka_bot', 'unknown_aminor', 'unknown_betan', 'unknown_kappa', 'unknown_li', 'unknown_wplasm', 'Shot_list', 'programmed_plasma_current']\n",
      "Number of Cols in test file =  115\n"
     ]
    }
   ],
   "source": [
    "column_names = test_cmod_df.columns.tolist()\n",
    "print(\"Column names:\", column_names)\n",
    "print('Number of Cols in test file = ', len(column_names))"
   ]
  },
  {
   "cell_type": "code",
   "execution_count": 54,
   "id": "bbc80bed-92d6-4b3f-a7e6-50b05aac0850",
   "metadata": {
    "tags": []
   },
   "outputs": [
    {
     "name": "stdout",
     "output_type": "stream",
     "text": [
      "113\n"
     ]
    }
   ],
   "source": [
    "col_features = ['plasma_current', 'toroidal_magnetic_field', 'horizontal_displacement', 'vertical_displacement', 'line_integral_density(center_chord)', 'c3_radiation',\n",
    " 'loop_voltage', 'axuv_01', 'axuv_02', 'axuv_03', 'axuv_04', 'axuv_05', 'axuv_06', 'axuv_07', 'axuv_08', 'axuv_09', 'axuv_10', 'axuv_11', 'axuv_12', 'axuv_13',\n",
    " 'axuv_14', 'axuv_15', 'axuv_16', 'axuv_17', 'axuv_18', 'axuv_19', 'axuv_20', 'axuv_21', 'axuv_22', 'soft_x_ray_01',\n",
    " 'soft_x_ray_02', 'soft_x_ray_03', 'soft_x_ray_04', 'soft_x_ray_05', 'soft_x_ray_06', 'soft_x_ray_07', 'soft_x_ray_08', 'soft_x_ray_09',\n",
    " 'soft_x_ray_10', 'soft_x_ray_11', 'soft_x_ray_12', 'soft_x_ray_13', 'soft_x_ray_14', 'soft_x_ray_15', 'soft_x_ray_16', 'soft_x_ray_17',\n",
    " 'soft_x_ray_18', 'soft_x_ray_19', 'soft_x_ray_20', 'soft_x_ray_21', 'soft_x_ray_22', 'soft_x_ray_23', 'soft_x_ray_24', 'soft_x_ray_25',\n",
    " 'soft_x_ray_26', 'soft_x_ray_27', 'soft_x_ray_28', 'soft_x_ray_29', 'soft_x_ray_30', 'soft_x_ray_31', 'soft_x_ray_32', 'soft_x_ray_33',\n",
    " 'soft_x_ray_34', 'soft_x_ray_35', 'soft_x_ray_36', 'soft_x_ray_37', 'soft_x_ray_38', 'poloidal_mirnov_probes_01', 'poloidal_mirnov_probes_02',\n",
    " 'poloidal_mirnov_probes_03', 'poloidal_mirnov_probes_04', 'poloidal_mirnov_probes_05', 'poloidal_mirnov_probes_06',\n",
    " 'poloidal_mirnov_probes_07', 'poloidal_mirnov_probes_08', 'poloidal_mirnov_probes_09', 'poloidal_mirnov_probes_10',\n",
    " 'poloidal_mirnov_probes_11', 'poloidal_mirnov_probes_12', 'poloidal_mirnov_probes_13', 'poloidal_mirnov_probes_14',\n",
    " 'poloidal_mirnov_probes_15', 'poloidal_mirnov_probes_16', 'poloidal_mirnov_probes_17', 'poloidal_mirnov_probes_18',\n",
    " 'toroidal_mirnov_probes_01', 'toroidal_mirnov_probes_02', 'toroidal_mirnov_probes_03', 'toroidal_mirnov_probes_04',\n",
    " 'toroidal_mirnov_probes_05', 'toroidal_mirnov_probes_06', 'toroidal_mirnov_probes_07', 'toroidal_mirnov_probes_09',\n",
    " 'toroidal_mirnov_probes_10', 'density_measurement1', 'density_measurement2', 'density_measurement3', 'density_measurement4', 'greenwald_fraction',\n",
    " 'lm_proxy', 'q95_proxy', 'ip_error_fraction', 'radiation_fraction', 'rotating_mode_proxy', 'unknown_bp_ka_top', 'unknown_bp_ef_top', 'unknown_bp_ka_bot', 'unknown_aminor', 'unknown_betan', 'unknown_kappa', 'unknown_li', 'unknown_wplasm',\n",
    " 'programmed_plasma_current']\n",
    "print(len(col_features))"
   ]
  },
  {
   "cell_type": "markdown",
   "id": "4ee14d36-30d2-4634-8b63-23c7852ea3e1",
   "metadata": {
    "tags": []
   },
   "source": [
    "<div style=\"font-weight: bold; font-size: 45px;\" >\n",
    "    Modelling\n",
    "</div>"
   ]
  },
  {
   "cell_type": "markdown",
   "id": "4e8c560f-034b-446b-8536-a034eec29990",
   "metadata": {
    "tags": []
   },
   "source": [
    "<div style=\"font-size: 30px;\">\n",
    "    Modelling using Xgboost and Catboost\n",
    "</div>\n"
   ]
  },
  {
   "cell_type": "code",
   "execution_count": 55,
   "id": "678873b9-dbed-4cce-9bd8-2735d60c590e",
   "metadata": {
    "tags": []
   },
   "outputs": [
    {
     "name": "stderr",
     "output_type": "stream",
     "text": [
      "<frozen importlib._bootstrap>:241: RuntimeWarning: numpy.ufunc size changed, may indicate binary incompatibility. Expected 216 from C header, got 232 from PyObject\n"
     ]
    }
   ],
   "source": [
    "import xgboost as xgb\n",
    "import catboost as catb\n",
    "import pandas as pd\n",
    "\n",
    "import sklearn.preprocessing as preprocess\n",
    "import sklearn.model_selection as model_selection\n",
    "import sklearn.metrics as metrics\n",
    "from tqdm.auto import tqdm\n",
    "import pandas as pd\n",
    "import joblib\n",
    "\n",
    "\n"
   ]
  },
  {
   "cell_type": "code",
   "execution_count": 80,
   "id": "0a881c30-ed54-4fb6-972e-b32f49e53c66",
   "metadata": {
    "tags": []
   },
   "outputs": [
    {
     "name": "stdout",
     "output_type": "stream",
     "text": [
      "0:\tlearn: 0.8778626\ttest: 0.8602151\tbest: 0.8602151 (0)\ttotal: 68.8ms\tremaining: 45m 52s\n",
      "Stopped by overfitting detector  (1000 iterations wait)\n",
      "\n",
      "bestTest = 0.9533678756\n",
      "bestIteration = 2025\n",
      "\n",
      "Shrink model to first 2026 iterations.\n",
      "[0]\tvalidation_0-logloss:0.66781\n",
      "[1500]\tvalidation_0-logloss:0.11469\n",
      "Number of splits trained 1 \n",
      "CatBoost - log_loss: 0.10203198338791639 F1_score: 0.9613520260071983 acc_score: 0.9616858237547893 , recall: 0.91\n",
      "XGBoost - log_loss: 0.11468614888515809 F1_score: 0.9615299190686781 acc_score: 0.9616858237547893 , recall: 0.93\n",
      "0:\tlearn: 0.8837429\ttest: 0.8526316\tbest: 0.8526316 (0)\ttotal: 13.9ms\tremaining: 9m 14s\n",
      "Stopped by overfitting detector  (1000 iterations wait)\n",
      "\n",
      "bestTest = 0.9644670051\n",
      "bestIteration = 1402\n",
      "\n",
      "Shrink model to first 1403 iterations.\n",
      "[0]\tvalidation_0-logloss:0.66771\n",
      "[1500]\tvalidation_0-logloss:0.10676\n",
      "Number of splits trained 2 \n",
      "CatBoost - log_loss: 0.1055429071708014 F1_score: 0.9692239352549424 acc_score: 0.9693486590038314 , recall: 0.94\n",
      "XGBoost - log_loss: 0.10675727663026126 F1_score: 0.9652587442360839 acc_score: 0.9655172413793104 , recall: 0.92\n",
      "0:\tlearn: 0.8804554\ttest: 0.8787879\tbest: 0.8787879 (0)\ttotal: 12.9ms\tremaining: 8m 34s\n",
      "Stopped by overfitting detector  (1000 iterations wait)\n",
      "\n",
      "bestTest = 0.9644670051\n",
      "bestIteration = 1489\n",
      "\n",
      "Shrink model to first 1490 iterations.\n",
      "[0]\tvalidation_0-logloss:0.66783\n",
      "[1500]\tvalidation_0-logloss:0.11388\n",
      "Number of splits trained 3 \n",
      "CatBoost - log_loss: 0.08673476116035674 F1_score: 0.9692239352549424 acc_score: 0.9693486590038314 , recall: 0.94\n",
      "XGBoost - log_loss: 0.11388247769367851 F1_score: 0.9538359028824138 acc_score: 0.9540229885057471 , recall: 0.92\n",
      "0:\tlearn: 0.8775607\ttest: 0.8817204\tbest: 0.8817204 (0)\ttotal: 33.7ms\tremaining: 22m 26s\n",
      "Stopped by overfitting detector  (1000 iterations wait)\n",
      "\n",
      "bestTest = 0.9494949495\n",
      "bestIteration = 2059\n",
      "\n",
      "Shrink model to first 2060 iterations.\n",
      "[0]\tvalidation_0-logloss:0.66783\n",
      "[1500]\tvalidation_0-logloss:0.12455\n",
      "Number of splits trained 4 \n",
      "CatBoost - log_loss: 0.1062790922064218 F1_score: 0.9577280187187416 acc_score: 0.9578544061302682 , recall: 0.93\n",
      "XGBoost - log_loss: 0.12454767545518189 F1_score: 0.9502378892232717 acc_score: 0.9501915708812261 , recall: 0.94\n",
      "0:\tlearn: 0.8812915\ttest: 0.8712871\tbest: 0.8712871 (0)\ttotal: 17.9ms\tremaining: 11m 55s\n",
      "Stopped by overfitting detector  (1000 iterations wait)\n",
      "\n",
      "bestTest = 0.9452736318\n",
      "bestIteration = 1598\n",
      "\n",
      "Shrink model to first 1599 iterations.\n",
      "[0]\tvalidation_0-logloss:0.66776\n",
      "[1500]\tvalidation_0-logloss:0.11467\n",
      "Number of splits trained 5 \n",
      "CatBoost - log_loss: 0.09574873004274304 F1_score: 0.9578935985735375 acc_score: 0.9578544061302682 , recall: 0.95\n",
      "XGBoost - log_loss: 0.11467301985880385 F1_score: 0.9617557660938506 acc_score: 0.9616858237547893 , recall: 0.96\n",
      "0:\tlearn: 0.8748867\ttest: 0.8365385\tbest: 0.8365385 (0)\ttotal: 19.1ms\tremaining: 12m 44s\n",
      "Stopped by overfitting detector  (1000 iterations wait)\n",
      "\n",
      "bestTest = 0.9547738693\n",
      "bestIteration = 732\n",
      "\n",
      "Shrink model to first 733 iterations.\n",
      "[0]\tvalidation_0-logloss:0.66781\n",
      "[1500]\tvalidation_0-logloss:0.13018\n",
      "Number of splits trained 6 \n",
      "CatBoost - log_loss: 0.1267312565804636 F1_score: 0.9616105714445433 acc_score: 0.9616858237547893 , recall: 0.94\n",
      "XGBoost - log_loss: 0.13018119499890232 F1_score: 0.9578137535357176 acc_score: 0.9578544061302682 , recall: 0.94\n",
      "0:\tlearn: 0.8856333\ttest: 0.8297872\tbest: 0.8297872 (0)\ttotal: 22.2ms\tremaining: 14m 49s\n",
      "Stopped by overfitting detector  (1000 iterations wait)\n",
      "\n",
      "bestTest = 0.9748743719\n",
      "bestIteration = 1839\n",
      "\n",
      "Shrink model to first 1840 iterations.\n",
      "[0]\tvalidation_0-logloss:0.66780\n",
      "[1500]\tvalidation_0-logloss:0.16144\n",
      "Number of splits trained 7 \n",
      "CatBoost - log_loss: 0.08616438491506999 F1_score: 0.9808244334253261 acc_score: 0.9808429118773946 , recall: 0.97\n",
      "XGBoost - log_loss: 0.16143535359189912 F1_score: 0.9346705743835098 acc_score: 0.9348659003831418 , recall: 0.9\n",
      "0:\tlearn: 0.8681733\ttest: 0.8934010\tbest: 0.8934010 (0)\ttotal: 18.6ms\tremaining: 12m 25s\n",
      "Stopped by overfitting detector  (1000 iterations wait)\n",
      "\n",
      "bestTest = 0.96\n",
      "bestIteration = 309\n",
      "\n",
      "Shrink model to first 310 iterations.\n",
      "[0]\tvalidation_0-logloss:0.66771\n",
      "[1500]\tvalidation_0-logloss:0.11874\n",
      "Number of splits trained 8 \n",
      "CatBoost - log_loss: 0.1370916485383813 F1_score: 0.9693486590038314 acc_score: 0.9693486590038314 , recall: 0.96\n",
      "XGBoost - log_loss: 0.11873663878176902 F1_score: 0.9618800550157104 acc_score: 0.9616858237547893 , recall: 0.98\n",
      "0:\tlearn: 0.8800366\ttest: 0.8659794\tbest: 0.8659794 (0)\ttotal: 19.5ms\tremaining: 13m\n",
      "Stopped by overfitting detector  (1000 iterations wait)\n",
      "\n",
      "bestTest = 0.96\n",
      "bestIteration = 434\n",
      "\n",
      "Shrink model to first 435 iterations.\n",
      "[0]\tvalidation_0-logloss:0.66778\n",
      "[1500]\tvalidation_0-logloss:0.11150\n",
      "Number of splits trained 9 \n",
      "CatBoost - log_loss: 0.14683657805887748 F1_score: 0.9654839801655871 acc_score: 0.9655172413793104 , recall: 0.95\n",
      "XGBoost - log_loss: 0.1115021252123352 F1_score: 0.9770922899630465 acc_score: 0.9770114942528736 , recall: 0.99\n",
      "0:\tlearn: 0.8805687\ttest: 0.8865979\tbest: 0.8865979 (0)\ttotal: 18.5ms\tremaining: 12m 21s\n",
      "Stopped by overfitting detector  (1000 iterations wait)\n",
      "\n",
      "bestTest = 0.9651741294\n",
      "bestIteration = 1135\n",
      "\n",
      "Shrink model to first 1136 iterations.\n",
      "[0]\tvalidation_0-logloss:0.66774\n",
      "[1500]\tvalidation_0-logloss:0.13574\n",
      "Number of splits trained 10 \n",
      "CatBoost - log_loss: 0.1018730704009286 F1_score: 0.9654839801655871 acc_score: 0.9655172413793104 , recall: 0.95\n",
      "XGBoost - log_loss: 0.13573902932037013 F1_score: 0.9540229885057471 acc_score: 0.9540229885057471 , recall: 0.94\n",
      "0:\tlearn: 0.8796957\ttest: 0.9062500\tbest: 0.9062500 (0)\ttotal: 21.3ms\tremaining: 14m 11s\n",
      "Stopped by overfitting detector  (1000 iterations wait)\n",
      "\n",
      "bestTest = 0.9693877551\n",
      "bestIteration = 1628\n",
      "\n",
      "Shrink model to first 1629 iterations.\n",
      "[0]\tvalidation_0-logloss:0.66669\n",
      "[1500]\tvalidation_0-logloss:0.13051\n",
      "Number of splits trained 11 \n",
      "CatBoost - log_loss: 0.09946188472817634 F1_score: 0.9730967966969232 acc_score: 0.9731800766283525 , recall: 0.9494949494949495\n",
      "XGBoost - log_loss: 0.13051205391234466 F1_score: 0.9539294456940804 acc_score: 0.9540229885057471 , recall: 0.9292929292929293\n",
      "0:\tlearn: 0.8788894\ttest: 0.8478261\tbest: 0.8478261 (0)\ttotal: 18.2ms\tremaining: 12m 6s\n",
      "Stopped by overfitting detector  (1000 iterations wait)\n",
      "\n",
      "bestTest = 0.9435897436\n",
      "bestIteration = 476\n",
      "\n",
      "Shrink model to first 477 iterations.\n",
      "[0]\tvalidation_0-logloss:0.66711\n",
      "[1500]\tvalidation_0-logloss:0.16667\n",
      "Number of splits trained 12 \n",
      "CatBoost - log_loss: 0.1702713970388723 F1_score: 0.9536534934295986 acc_score: 0.9538461538461539 , recall: 0.9191919191919192\n",
      "XGBoost - log_loss: 0.16666970626500582 F1_score: 0.94225057210866 acc_score: 0.9423076923076923 , recall: 0.9191919191919192\n",
      "########################************ COMPLETED **********###################################################\n"
     ]
    }
   ],
   "source": [
    "seed = 2020  # seed\n",
    "fold_no = 12\n",
    "\n",
    "skf = model_selection.StratifiedKFold(n_splits=fold_no, shuffle=True, random_state=seed)\n",
    "scores = {'F1_SCORE': [], 'LOG_SCORE': [], 'recall': [], 'ACC': []}\n",
    "preds_catb = []  # Store CatBoost predictions\n",
    "preds_xgb = []   # Store XGBoost predictions\n",
    "preds_combined = []  # Store combined predictions\n",
    "\n",
    "ratio1 = 0.5\n",
    "ratio2 = 0.5\n",
    "\n",
    "X_, y_ = train_df[col_features].fillna(np.inf).replace(np.NAN, np.inf), train_df['Is_disrupt'].astype(int)\n",
    "test_new = test_cmod_df[col_features].fillna(np.inf).replace(np.NAN, np.inf)\n",
    "\n",
    "# creating a for loop for the kfold\n",
    "i = 1\n",
    "for train, test_ in skf.split(X_, y_):\n",
    "    x_train, x_test, y_train, y_test = X_.iloc[train], X_.iloc[test_], y_.iloc[train], y_.iloc[test_]\n",
    "\n",
    "    # CatBoost\n",
    "    estimator1 = catb.CatBoostClassifier(iterations=40000, has_time=True, bootstrap_type='No', random_strength=0,\n",
    "                                          learning_rate=0.011,\n",
    "                                          use_best_model=True,\n",
    "                                          reg_lambda=6, random_seed=39838,\n",
    "                                          eval_metric='F1',\n",
    "                                          early_stopping_rounds=1000, verbose=True)\n",
    "    estimator1.fit(x_train, y_train, eval_set=[(x_test, y_test)], verbose=5000)\n",
    "\n",
    "    # XGBoost\n",
    "    estimator2 = xgb.XGBClassifier(learning_rate=0.0023, n_estimators=1501, random_state=42, missing=np.inf,\n",
    "                                   scale_pos_weight=1.2, max_depth=40, reg_lambda=0.8)\n",
    "    estimator2.fit(x_train, y_train, eval_set=[(x_test, y_test)], verbose=5000)\n",
    "\n",
    "    # Save CatBoost model\n",
    "    joblib.dump(estimator1, f'../tod/package1/catb{i}.pkl')\n",
    "\n",
    "    # Save XGBoost model\n",
    "    joblib.dump(estimator2, f'../tod/package1/xgb{i}.pkl')\n",
    "\n",
    "    # Load models\n",
    "    estimator1 = joblib.load(f'../tod/package1/catb{i}.pkl')\n",
    "    estimator2 = joblib.load(f'../tod/package1/xgb{i}.pkl')\n",
    "\n",
    "    # Predictions\n",
    "    pred_catb = estimator1.predict_proba(test_new)[:, 1]\n",
    "    pred_xgb = estimator2.predict_proba(test_new)[:, 1]\n",
    "\n",
    "    print('Number of splits trained {} '.format(i))\n",
    "    pred_combined = pred_catb * ratio1 + pred_xgb * ratio2\n",
    "\n",
    "    # Validations\n",
    "    valid_probs_catb = estimator1.predict_proba(x_test)[:, 1]\n",
    "    valid_probs_xgb = estimator2.predict_proba(x_test)[:, 1]\n",
    "\n",
    "    valid_preds_catb = [0 if i < 0.51 else 1 for i in valid_probs_catb]\n",
    "    valid_preds_xgb = [0 if i < 0.51 else 1 for i in valid_probs_xgb]\n",
    "\n",
    "    f1_score_catb = metrics.f1_score(y_test, valid_preds_catb, average='weighted')\n",
    "    f1_score_xgb = metrics.f1_score(y_test, valid_preds_xgb, average='weighted')\n",
    "\n",
    "    log_score_catb = metrics.log_loss(y_test, valid_probs_catb)\n",
    "    log_score_xgb = metrics.log_loss(y_test, valid_probs_xgb)\n",
    "\n",
    "    recallscore_catb = metrics.recall_score(y_test, valid_preds_catb)\n",
    "    recallscore_xgb = metrics.recall_score(y_test, valid_preds_xgb)\n",
    "\n",
    "    ACCscore_catb = metrics.accuracy_score(y_test, valid_preds_catb)\n",
    "    ACCscore_xgb = metrics.accuracy_score(y_test, valid_preds_xgb)\n",
    "\n",
    "    print(f'CatBoost - log_loss: {log_score_catb} F1_score: {f1_score_catb} acc_score: {ACCscore_catb} , recall: {recallscore_catb}')\n",
    "    print(f'XGBoost - log_loss: {log_score_xgb} F1_score: {f1_score_xgb} acc_score: {ACCscore_xgb} , recall: {recallscore_xgb}')\n",
    "\n",
    "    scores['LOG_SCORE'].append(log_score_catb)\n",
    "    scores['F1_SCORE'].append(f1_score_catb)\n",
    "    scores['recall'].append(recallscore_catb)\n",
    "    scores['ACC'].append(ACCscore_catb)\n",
    "\n",
    "    preds_catb.append(pred_catb)\n",
    "    preds_xgb.append(pred_xgb)\n",
    "    preds_combined.append(pred_combined)\n",
    "\n",
    "    i += 1\n",
    "\n",
    "# Save CatBoost predictions\n",
    "final_df_catb = pd.DataFrame({'Shot_list': test_cmod_df.Shot_list.values, 'Is_disrupt': np.mean(preds_catb, axis=0)})\n",
    "final_df_catb['Is_disrupt'] = [0 if i < 0.51 else 1 for i in final_df_catb['Is_disrupt'].values]\n",
    "final_df_catb[['Shot_list', 'Is_disrupt']].to_csv('../tod/package1/sub_catb.csv', index=False)\n",
    "\n",
    "# Save XGBoost predictions\n",
    "final_df_xgb = pd.DataFrame({'Shot_list': test_cmod_df.Shot_list.values, 'Is_disrupt': np.mean(preds_xgb, axis=0)})\n",
    "final_df_xgb['Is_disrupt'] = [0 if i < 0.51 else 1 for i in final_df_xgb['Is_disrupt'].values]\n",
    "final_df_xgb[['Shot_list', 'Is_disrupt']].to_csv('../tod/package1/sub_xgb.csv', index=False)\n",
    "\n",
    "# Save combined predictions\n",
    "final_df_combined = pd.DataFrame({'Shot_list': test_cmod_df.Shot_list.values, 'Is_disrupt': np.mean(preds_combined, axis=0)})\n",
    "final_df_combined['Is_disrupt'] = [0 if i < 0.51 else 1 for i in final_df_combined['Is_disrupt'].values]\n",
    "final_df_combined[['Shot_list', 'Is_disrupt']].to_csv('../tod/package1/sub_combined.csv', index=False)\n",
    "\n",
    "\n",
    "print('########################************ COMPLETED **********###################################################')\n"
   ]
  },
  {
   "cell_type": "code",
   "execution_count": null,
   "id": "b5635695-cd39-43c4-9fea-bf5aef04ac8a",
   "metadata": {},
   "outputs": [],
   "source": []
  }
 ],
 "metadata": {
  "kernelspec": {
   "display_name": "Python 3 (ipykernel)",
   "language": "python",
   "name": "python3"
  },
  "language_info": {
   "codemirror_mode": {
    "name": "ipython",
    "version": 3
   },
   "file_extension": ".py",
   "mimetype": "text/x-python",
   "name": "python",
   "nbconvert_exporter": "python",
   "pygments_lexer": "ipython3",
   "version": "3.11.5"
  },
  "toc-showmarkdowntxt": false
 },
 "nbformat": 4,
 "nbformat_minor": 5
}
